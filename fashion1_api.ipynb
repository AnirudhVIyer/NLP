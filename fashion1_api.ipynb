{
  "nbformat": 4,
  "nbformat_minor": 0,
  "metadata": {
    "colab": {
      "provenance": [],
      "authorship_tag": "ABX9TyMV+ETjp5phjBae/e9DHPRm",
      "include_colab_link": true
    },
    "kernelspec": {
      "name": "python3",
      "display_name": "Python 3"
    },
    "language_info": {
      "name": "python"
    },
    "widgets": {
      "application/vnd.jupyter.widget-state+json": {
        "ec6760fff2f14cada2a6a3908d3b1cd7": {
          "model_module": "@jupyter-widgets/controls",
          "model_name": "FileUploadModel",
          "model_module_version": "1.5.0",
          "state": {
            "_counter": 0,
            "_dom_classes": [],
            "_model_module": "@jupyter-widgets/controls",
            "_model_module_version": "1.5.0",
            "_model_name": "FileUploadModel",
            "_view_count": null,
            "_view_module": "@jupyter-widgets/controls",
            "_view_module_version": "1.5.0",
            "_view_name": "FileUploadView",
            "accept": "",
            "button_style": "",
            "data": [],
            "description": "Upload",
            "description_tooltip": null,
            "disabled": false,
            "error": "",
            "icon": "upload",
            "layout": "IPY_MODEL_c1a88fc3b5bd4cf9a8598fbc8abb1b7a",
            "metadata": [],
            "multiple": false,
            "style": "IPY_MODEL_ea1411dd82854a4bbdf2669d1b68d5fe"
          }
        },
        "c1a88fc3b5bd4cf9a8598fbc8abb1b7a": {
          "model_module": "@jupyter-widgets/base",
          "model_name": "LayoutModel",
          "model_module_version": "1.2.0",
          "state": {
            "_model_module": "@jupyter-widgets/base",
            "_model_module_version": "1.2.0",
            "_model_name": "LayoutModel",
            "_view_count": null,
            "_view_module": "@jupyter-widgets/base",
            "_view_module_version": "1.2.0",
            "_view_name": "LayoutView",
            "align_content": null,
            "align_items": null,
            "align_self": null,
            "border": null,
            "bottom": null,
            "display": null,
            "flex": null,
            "flex_flow": null,
            "grid_area": null,
            "grid_auto_columns": null,
            "grid_auto_flow": null,
            "grid_auto_rows": null,
            "grid_column": null,
            "grid_gap": null,
            "grid_row": null,
            "grid_template_areas": null,
            "grid_template_columns": null,
            "grid_template_rows": null,
            "height": null,
            "justify_content": null,
            "justify_items": null,
            "left": null,
            "margin": null,
            "max_height": null,
            "max_width": null,
            "min_height": null,
            "min_width": null,
            "object_fit": null,
            "object_position": null,
            "order": null,
            "overflow": null,
            "overflow_x": null,
            "overflow_y": null,
            "padding": null,
            "right": null,
            "top": null,
            "visibility": null,
            "width": null
          }
        },
        "ea1411dd82854a4bbdf2669d1b68d5fe": {
          "model_module": "@jupyter-widgets/controls",
          "model_name": "ButtonStyleModel",
          "model_module_version": "1.5.0",
          "state": {
            "_model_module": "@jupyter-widgets/controls",
            "_model_module_version": "1.5.0",
            "_model_name": "ButtonStyleModel",
            "_view_count": null,
            "_view_module": "@jupyter-widgets/base",
            "_view_module_version": "1.2.0",
            "_view_name": "StyleView",
            "button_color": null,
            "font_weight": ""
          }
        },
        "0ff6ca4cb71e405ba24248ae43c92287": {
          "model_module": "@jupyter-widgets/output",
          "model_name": "OutputModel",
          "model_module_version": "1.0.0",
          "state": {
            "_dom_classes": [],
            "_model_module": "@jupyter-widgets/output",
            "_model_module_version": "1.0.0",
            "_model_name": "OutputModel",
            "_view_count": null,
            "_view_module": "@jupyter-widgets/output",
            "_view_module_version": "1.0.0",
            "_view_name": "OutputView",
            "layout": "IPY_MODEL_5a296fb7e9cb4157aa18e1e0a62c152a",
            "msg_id": "",
            "outputs": [
              {
                "output_type": "display_data",
                "data": {
                  "text/plain": "<PIL.Image.Image image mode=RGB size=60x80>",
                  "image/png": "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\n"
                },
                "metadata": {}
              }
            ]
          }
        },
        "5a296fb7e9cb4157aa18e1e0a62c152a": {
          "model_module": "@jupyter-widgets/base",
          "model_name": "LayoutModel",
          "model_module_version": "1.2.0",
          "state": {
            "_model_module": "@jupyter-widgets/base",
            "_model_module_version": "1.2.0",
            "_model_name": "LayoutModel",
            "_view_count": null,
            "_view_module": "@jupyter-widgets/base",
            "_view_module_version": "1.2.0",
            "_view_name": "LayoutView",
            "align_content": null,
            "align_items": null,
            "align_self": null,
            "border": null,
            "bottom": null,
            "display": null,
            "flex": null,
            "flex_flow": null,
            "grid_area": null,
            "grid_auto_columns": null,
            "grid_auto_flow": null,
            "grid_auto_rows": null,
            "grid_column": null,
            "grid_gap": null,
            "grid_row": null,
            "grid_template_areas": null,
            "grid_template_columns": null,
            "grid_template_rows": null,
            "height": null,
            "justify_content": null,
            "justify_items": null,
            "left": null,
            "margin": null,
            "max_height": null,
            "max_width": null,
            "min_height": null,
            "min_width": null,
            "object_fit": null,
            "object_position": null,
            "order": null,
            "overflow": null,
            "overflow_x": null,
            "overflow_y": null,
            "padding": null,
            "right": null,
            "top": null,
            "visibility": null,
            "width": null
          }
        },
        "3b5f31186e674e0990424cae6ecced47": {
          "model_module": "@jupyter-widgets/controls",
          "model_name": "LabelModel",
          "model_module_version": "1.5.0",
          "state": {
            "_dom_classes": [],
            "_model_module": "@jupyter-widgets/controls",
            "_model_module_version": "1.5.0",
            "_model_name": "LabelModel",
            "_view_count": null,
            "_view_module": "@jupyter-widgets/controls",
            "_view_module_version": "1.5.0",
            "_view_name": "LabelView",
            "description": "",
            "description_tooltip": null,
            "layout": "IPY_MODEL_a5d168aa55e648f995c3ad79e65c0efb",
            "placeholder": "​",
            "style": "IPY_MODEL_152c8f49831942f6b25e7488d889b5fb",
            "value": "Prediction: Dresses; Probability: 0.8808"
          }
        },
        "a5d168aa55e648f995c3ad79e65c0efb": {
          "model_module": "@jupyter-widgets/base",
          "model_name": "LayoutModel",
          "model_module_version": "1.2.0",
          "state": {
            "_model_module": "@jupyter-widgets/base",
            "_model_module_version": "1.2.0",
            "_model_name": "LayoutModel",
            "_view_count": null,
            "_view_module": "@jupyter-widgets/base",
            "_view_module_version": "1.2.0",
            "_view_name": "LayoutView",
            "align_content": null,
            "align_items": null,
            "align_self": null,
            "border": null,
            "bottom": null,
            "display": null,
            "flex": null,
            "flex_flow": null,
            "grid_area": null,
            "grid_auto_columns": null,
            "grid_auto_flow": null,
            "grid_auto_rows": null,
            "grid_column": null,
            "grid_gap": null,
            "grid_row": null,
            "grid_template_areas": null,
            "grid_template_columns": null,
            "grid_template_rows": null,
            "height": null,
            "justify_content": null,
            "justify_items": null,
            "left": null,
            "margin": null,
            "max_height": null,
            "max_width": null,
            "min_height": null,
            "min_width": null,
            "object_fit": null,
            "object_position": null,
            "order": null,
            "overflow": null,
            "overflow_x": null,
            "overflow_y": null,
            "padding": null,
            "right": null,
            "top": null,
            "visibility": null,
            "width": null
          }
        },
        "152c8f49831942f6b25e7488d889b5fb": {
          "model_module": "@jupyter-widgets/controls",
          "model_name": "DescriptionStyleModel",
          "model_module_version": "1.5.0",
          "state": {
            "_model_module": "@jupyter-widgets/controls",
            "_model_module_version": "1.5.0",
            "_model_name": "DescriptionStyleModel",
            "_view_count": null,
            "_view_module": "@jupyter-widgets/base",
            "_view_module_version": "1.2.0",
            "_view_name": "StyleView",
            "description_width": ""
          }
        },
        "212eaec89b8149c6ac23a264076f9267": {
          "model_module": "@jupyter-widgets/controls",
          "model_name": "ButtonModel",
          "model_module_version": "1.5.0",
          "state": {
            "_dom_classes": [],
            "_model_module": "@jupyter-widgets/controls",
            "_model_module_version": "1.5.0",
            "_model_name": "ButtonModel",
            "_view_count": null,
            "_view_module": "@jupyter-widgets/controls",
            "_view_module_version": "1.5.0",
            "_view_name": "ButtonView",
            "button_style": "",
            "description": "Classify",
            "disabled": false,
            "icon": "",
            "layout": "IPY_MODEL_bdbe87cdba82496a8a664e0afe510855",
            "style": "IPY_MODEL_4a3971896332488d9e3d2383224b84ae",
            "tooltip": ""
          }
        },
        "bdbe87cdba82496a8a664e0afe510855": {
          "model_module": "@jupyter-widgets/base",
          "model_name": "LayoutModel",
          "model_module_version": "1.2.0",
          "state": {
            "_model_module": "@jupyter-widgets/base",
            "_model_module_version": "1.2.0",
            "_model_name": "LayoutModel",
            "_view_count": null,
            "_view_module": "@jupyter-widgets/base",
            "_view_module_version": "1.2.0",
            "_view_name": "LayoutView",
            "align_content": null,
            "align_items": null,
            "align_self": null,
            "border": null,
            "bottom": null,
            "display": null,
            "flex": null,
            "flex_flow": null,
            "grid_area": null,
            "grid_auto_columns": null,
            "grid_auto_flow": null,
            "grid_auto_rows": null,
            "grid_column": null,
            "grid_gap": null,
            "grid_row": null,
            "grid_template_areas": null,
            "grid_template_columns": null,
            "grid_template_rows": null,
            "height": null,
            "justify_content": null,
            "justify_items": null,
            "left": null,
            "margin": null,
            "max_height": null,
            "max_width": null,
            "min_height": null,
            "min_width": null,
            "object_fit": null,
            "object_position": null,
            "order": null,
            "overflow": null,
            "overflow_x": null,
            "overflow_y": null,
            "padding": null,
            "right": null,
            "top": null,
            "visibility": null,
            "width": null
          }
        },
        "4a3971896332488d9e3d2383224b84ae": {
          "model_module": "@jupyter-widgets/controls",
          "model_name": "ButtonStyleModel",
          "model_module_version": "1.5.0",
          "state": {
            "_model_module": "@jupyter-widgets/controls",
            "_model_module_version": "1.5.0",
            "_model_name": "ButtonStyleModel",
            "_view_count": null,
            "_view_module": "@jupyter-widgets/base",
            "_view_module_version": "1.2.0",
            "_view_name": "StyleView",
            "button_color": null,
            "font_weight": ""
          }
        },
        "2be4f21830c447799034c7cea0f02336": {
          "model_module": "@jupyter-widgets/controls",
          "model_name": "VBoxModel",
          "model_module_version": "1.5.0",
          "state": {
            "_dom_classes": [],
            "_model_module": "@jupyter-widgets/controls",
            "_model_module_version": "1.5.0",
            "_model_name": "VBoxModel",
            "_view_count": null,
            "_view_module": "@jupyter-widgets/controls",
            "_view_module_version": "1.5.0",
            "_view_name": "VBoxView",
            "box_style": "",
            "children": [
              "IPY_MODEL_6cc301d4a25d4e0e99cc0b17c87923c1",
              "IPY_MODEL_1a34b0a3a87e45f9a5bcf1f20970b32e",
              "IPY_MODEL_212eaec89b8149c6ac23a264076f9267",
              "IPY_MODEL_0ff6ca4cb71e405ba24248ae43c92287",
              "IPY_MODEL_3b5f31186e674e0990424cae6ecced47"
            ],
            "layout": "IPY_MODEL_a6ca9fae983a49779c80b276ab0f5ca5"
          }
        },
        "6cc301d4a25d4e0e99cc0b17c87923c1": {
          "model_module": "@jupyter-widgets/controls",
          "model_name": "LabelModel",
          "model_module_version": "1.5.0",
          "state": {
            "_dom_classes": [],
            "_model_module": "@jupyter-widgets/controls",
            "_model_module_version": "1.5.0",
            "_model_name": "LabelModel",
            "_view_count": null,
            "_view_module": "@jupyter-widgets/controls",
            "_view_module_version": "1.5.0",
            "_view_name": "LabelView",
            "description": "",
            "description_tooltip": null,
            "layout": "IPY_MODEL_b31a92cb50464c819bdfa24ba2814baa",
            "placeholder": "​",
            "style": "IPY_MODEL_6eb67f41b8814b85a74816d84aadc6ba",
            "value": "Select your fashion item"
          }
        },
        "1a34b0a3a87e45f9a5bcf1f20970b32e": {
          "model_module": "@jupyter-widgets/controls",
          "model_name": "FileUploadModel",
          "model_module_version": "1.5.0",
          "state": {
            "_counter": 0,
            "_dom_classes": [],
            "_model_module": "@jupyter-widgets/controls",
            "_model_module_version": "1.5.0",
            "_model_name": "FileUploadModel",
            "_view_count": null,
            "_view_module": "@jupyter-widgets/controls",
            "_view_module_version": "1.5.0",
            "_view_name": "FileUploadView",
            "accept": "",
            "button_style": "",
            "data": [],
            "description": "Upload",
            "description_tooltip": null,
            "disabled": false,
            "error": "",
            "icon": "upload",
            "layout": "IPY_MODEL_67cc5f2d95c94ce8a175f999ad519eb0",
            "metadata": [],
            "multiple": false,
            "style": "IPY_MODEL_aad01a115ec14802ae07313ee32a9743"
          }
        },
        "a6ca9fae983a49779c80b276ab0f5ca5": {
          "model_module": "@jupyter-widgets/base",
          "model_name": "LayoutModel",
          "model_module_version": "1.2.0",
          "state": {
            "_model_module": "@jupyter-widgets/base",
            "_model_module_version": "1.2.0",
            "_model_name": "LayoutModel",
            "_view_count": null,
            "_view_module": "@jupyter-widgets/base",
            "_view_module_version": "1.2.0",
            "_view_name": "LayoutView",
            "align_content": null,
            "align_items": null,
            "align_self": null,
            "border": null,
            "bottom": null,
            "display": null,
            "flex": null,
            "flex_flow": null,
            "grid_area": null,
            "grid_auto_columns": null,
            "grid_auto_flow": null,
            "grid_auto_rows": null,
            "grid_column": null,
            "grid_gap": null,
            "grid_row": null,
            "grid_template_areas": null,
            "grid_template_columns": null,
            "grid_template_rows": null,
            "height": null,
            "justify_content": null,
            "justify_items": null,
            "left": null,
            "margin": null,
            "max_height": null,
            "max_width": null,
            "min_height": null,
            "min_width": null,
            "object_fit": null,
            "object_position": null,
            "order": null,
            "overflow": null,
            "overflow_x": null,
            "overflow_y": null,
            "padding": null,
            "right": null,
            "top": null,
            "visibility": null,
            "width": null
          }
        },
        "b31a92cb50464c819bdfa24ba2814baa": {
          "model_module": "@jupyter-widgets/base",
          "model_name": "LayoutModel",
          "model_module_version": "1.2.0",
          "state": {
            "_model_module": "@jupyter-widgets/base",
            "_model_module_version": "1.2.0",
            "_model_name": "LayoutModel",
            "_view_count": null,
            "_view_module": "@jupyter-widgets/base",
            "_view_module_version": "1.2.0",
            "_view_name": "LayoutView",
            "align_content": null,
            "align_items": null,
            "align_self": null,
            "border": null,
            "bottom": null,
            "display": null,
            "flex": null,
            "flex_flow": null,
            "grid_area": null,
            "grid_auto_columns": null,
            "grid_auto_flow": null,
            "grid_auto_rows": null,
            "grid_column": null,
            "grid_gap": null,
            "grid_row": null,
            "grid_template_areas": null,
            "grid_template_columns": null,
            "grid_template_rows": null,
            "height": null,
            "justify_content": null,
            "justify_items": null,
            "left": null,
            "margin": null,
            "max_height": null,
            "max_width": null,
            "min_height": null,
            "min_width": null,
            "object_fit": null,
            "object_position": null,
            "order": null,
            "overflow": null,
            "overflow_x": null,
            "overflow_y": null,
            "padding": null,
            "right": null,
            "top": null,
            "visibility": null,
            "width": null
          }
        },
        "6eb67f41b8814b85a74816d84aadc6ba": {
          "model_module": "@jupyter-widgets/controls",
          "model_name": "DescriptionStyleModel",
          "model_module_version": "1.5.0",
          "state": {
            "_model_module": "@jupyter-widgets/controls",
            "_model_module_version": "1.5.0",
            "_model_name": "DescriptionStyleModel",
            "_view_count": null,
            "_view_module": "@jupyter-widgets/base",
            "_view_module_version": "1.2.0",
            "_view_name": "StyleView",
            "description_width": ""
          }
        },
        "67cc5f2d95c94ce8a175f999ad519eb0": {
          "model_module": "@jupyter-widgets/base",
          "model_name": "LayoutModel",
          "model_module_version": "1.2.0",
          "state": {
            "_model_module": "@jupyter-widgets/base",
            "_model_module_version": "1.2.0",
            "_model_name": "LayoutModel",
            "_view_count": null,
            "_view_module": "@jupyter-widgets/base",
            "_view_module_version": "1.2.0",
            "_view_name": "LayoutView",
            "align_content": null,
            "align_items": null,
            "align_self": null,
            "border": null,
            "bottom": null,
            "display": null,
            "flex": null,
            "flex_flow": null,
            "grid_area": null,
            "grid_auto_columns": null,
            "grid_auto_flow": null,
            "grid_auto_rows": null,
            "grid_column": null,
            "grid_gap": null,
            "grid_row": null,
            "grid_template_areas": null,
            "grid_template_columns": null,
            "grid_template_rows": null,
            "height": null,
            "justify_content": null,
            "justify_items": null,
            "left": null,
            "margin": null,
            "max_height": null,
            "max_width": null,
            "min_height": null,
            "min_width": null,
            "object_fit": null,
            "object_position": null,
            "order": null,
            "overflow": null,
            "overflow_x": null,
            "overflow_y": null,
            "padding": null,
            "right": null,
            "top": null,
            "visibility": null,
            "width": null
          }
        },
        "aad01a115ec14802ae07313ee32a9743": {
          "model_module": "@jupyter-widgets/controls",
          "model_name": "ButtonStyleModel",
          "model_module_version": "1.5.0",
          "state": {
            "_model_module": "@jupyter-widgets/controls",
            "_model_module_version": "1.5.0",
            "_model_name": "ButtonStyleModel",
            "_view_count": null,
            "_view_module": "@jupyter-widgets/base",
            "_view_module_version": "1.2.0",
            "_view_name": "StyleView",
            "button_color": null,
            "font_weight": ""
          }
        }
      }
    }
  },
  "cells": [
    {
      "cell_type": "markdown",
      "metadata": {
        "id": "view-in-github",
        "colab_type": "text"
      },
      "source": [
        "<a href=\"https://colab.research.google.com/github/AnirudhVIyer/NLP/blob/main/fashion1_api.ipynb\" target=\"_parent\"><img src=\"https://colab.research.google.com/assets/colab-badge.svg\" alt=\"Open In Colab\"/></a>"
      ]
    },
    {
      "cell_type": "code",
      "execution_count": null,
      "metadata": {
        "id": "cFutJHZtFU7G"
      },
      "outputs": [],
      "source": [
        "from fastai.vision.all import *"
      ]
    },
    {
      "cell_type": "code",
      "source": [
        "from google.colab import drive\n",
        "drive.mount('/content/drive')"
      ],
      "metadata": {
        "colab": {
          "base_uri": "https://localhost:8080/"
        },
        "id": "rBXTNbn4GycH",
        "outputId": "886a557c-5d28-49f1-c4fa-7ac55a4c210c"
      },
      "execution_count": null,
      "outputs": [
        {
          "output_type": "stream",
          "name": "stdout",
          "text": [
            "Mounted at /content/drive\n"
          ]
        }
      ]
    },
    {
      "cell_type": "code",
      "source": [
        "!!unzip drive/MyDrive/articles.zip > /dev/null\n"
      ],
      "metadata": {
        "id": "c2YsFMAaHcEW",
        "outputId": "1674cf56-0528-4532-8af0-8b934637ef3e",
        "colab": {
          "base_uri": "https://localhost:8080/"
        }
      },
      "execution_count": 9,
      "outputs": [
        {
          "output_type": "execute_result",
          "data": {
            "text/plain": [
              "[]"
            ]
          },
          "metadata": {},
          "execution_count": 9
        }
      ]
    },
    {
      "cell_type": "code",
      "source": [
        "!!unzip drive/MyDrive/fashion_model1.pkl > /dev/null"
      ],
      "metadata": {
        "colab": {
          "base_uri": "https://localhost:8080/"
        },
        "id": "3ePLR_vPJfJi",
        "outputId": "59d5abe7-4f33-4370-cd95-66b3fbc033cb"
      },
      "execution_count": 17,
      "outputs": [
        {
          "output_type": "execute_result",
          "data": {
            "text/plain": [
              "[]"
            ]
          },
          "metadata": {},
          "execution_count": 17
        }
      ]
    },
    {
      "cell_type": "code",
      "source": [
        "learn_inf = load_learner('export.pkl')"
      ],
      "metadata": {
        "id": "vMlb4q1gJ7TP"
      },
      "execution_count": 23,
      "outputs": []
    },
    {
      "cell_type": "code",
      "source": [
        "## code to remove folders/classes with items less than 4\n",
        "import os\n",
        "import shutil\n",
        "\n",
        "\n",
        "\n",
        "\n",
        "# folder path\n",
        "dir_path = 'image_articles'\n",
        "import os\n",
        "\n",
        "# Iterate directory\n",
        "for path in os.listdir(dir_path):\n",
        "    # check if current path is a file\n",
        "    label = os.path.join(dir_path, path)\n",
        "    lst = os.listdir(label) # your directory path\n",
        "    number_files = len(lst)\n",
        "    if(number_files < 50):\n",
        "      shutil.rmtree(label)\n",
        "      print(label+'removed')\n",
        "     "
      ],
      "metadata": {
        "colab": {
          "base_uri": "https://localhost:8080/"
        },
        "id": "zcDi6zITIznB",
        "outputId": "adcab738-9d5a-45f7-81c4-7ba922ab4ebd"
      },
      "execution_count": 10,
      "outputs": [
        {
          "output_type": "stream",
          "name": "stdout",
          "text": [
            "image_articles/Mask and Peelremoved\n",
            "image_articles/Makeup Removerremoved\n",
            "image_articles/Trolley Bagremoved\n",
            "image_articles/Headbandremoved\n",
            "image_articles/Rain Trousersremoved\n",
            "image_articles/Key chainremoved\n",
            "image_articles/Mens Grooming Kitremoved\n",
            "image_articles/Blazersremoved\n",
            "image_articles/Lip Plumperremoved\n",
            "image_articles/Lip Linerremoved\n",
            "image_articles/Stockingsremoved\n",
            "image_articles/Jumpsuitremoved\n",
            "image_articles/Bath Roberemoved\n",
            "image_articles/Mufflersremoved\n",
            "image_articles/Lounge Shortsremoved\n",
            "image_articles/Salwar and Dupattaremoved\n",
            "image_articles/Bootiesremoved\n",
            "image_articles/Footballsremoved\n",
            "image_articles/Shapewearremoved\n",
            "image_articles/Eyeshadowremoved\n",
            "image_articles/Glovesremoved\n",
            "image_articles/Lip Careremoved\n",
            "image_articles/Salwarremoved\n",
            "image_articles/Roberemoved\n",
            "image_articles/Clothing Setremoved\n",
            "image_articles/Body Wash and Scrubremoved\n",
            "image_articles/Travel Accessoryremoved\n",
            "image_articles/Camisolesremoved\n",
            "image_articles/Ties and Cufflinksremoved\n",
            "image_articles/Concealerremoved\n",
            "image_articles/Cushion Coversremoved\n",
            "image_articles/Jeggingsremoved\n",
            "image_articles/Churidarremoved\n",
            "image_articles/Suitsremoved\n",
            "image_articles/Body Lotionremoved\n",
            "image_articles/Wristbandsremoved\n",
            "image_articles/Shrugremoved\n",
            "image_articles/Umbrellasremoved\n",
            "image_articles/Face Scrub and Exfoliatorremoved\n",
            "image_articles/Face Wash and Cleanserremoved\n",
            "image_articles/Rucksacksremoved\n",
            "image_articles/Patialaremoved\n",
            "image_articles/Waist Pouchremoved\n",
            "image_articles/Messenger Bagremoved\n",
            "image_articles/Sunscreenremoved\n",
            "image_articles/Ipadremoved\n",
            "image_articles/Basketballsremoved\n",
            "image_articles/Tonerremoved\n",
            "image_articles/Nail Essentialsremoved\n",
            "image_articles/Tightsremoved\n",
            "image_articles/Shoe Lacesremoved\n",
            "image_articles/Water Bottleremoved\n",
            "image_articles/Face Serum and Gelremoved\n",
            "image_articles/Lounge Tshirtsremoved\n",
            "image_articles/Waistcoatremoved\n",
            "image_articles/Tablet Sleeveremoved\n",
            "image_articles/Eye Creamremoved\n",
            "image_articles/Baby Dollsremoved\n",
            "image_articles/Suspendersremoved\n",
            "image_articles/Hair Colourremoved\n",
            "image_articles/Beauty Accessoryremoved\n",
            "image_articles/Rain Jacketremoved\n",
            "image_articles/Tracksuitsremoved\n",
            "image_articles/Shoe Accessoriesremoved\n",
            "image_articles/Nehru Jacketsremoved\n",
            "image_articles/Rompersremoved\n",
            "image_articles/Compactremoved\n",
            "image_articles/Lehenga Choliremoved\n",
            "image_articles/Swimwearremoved\n",
            "image_articles/Mascararemoved\n",
            "image_articles/Mobile Pouchremoved\n",
            "image_articles/Hair Accessoryremoved\n",
            "image_articles/Hatremoved\n"
          ]
        }
      ]
    },
    {
      "cell_type": "code",
      "source": [
        "#hide_output\n",
        "import ipywidgets as widgets\n",
        "btn_upload = widgets.FileUpload()\n",
        "btn_upload"
      ],
      "metadata": {
        "colab": {
          "base_uri": "https://localhost:8080/",
          "height": 49,
          "referenced_widgets": [
            "ec6760fff2f14cada2a6a3908d3b1cd7",
            "c1a88fc3b5bd4cf9a8598fbc8abb1b7a",
            "ea1411dd82854a4bbdf2669d1b68d5fe"
          ]
        },
        "id": "5RzAa7kFG2si",
        "outputId": "e4af1205-313a-4deb-a36d-eb716ecf6864"
      },
      "execution_count": null,
      "outputs": [
        {
          "output_type": "display_data",
          "data": {
            "text/plain": [
              "FileUpload(value={}, description='Upload')"
            ],
            "application/vnd.jupyter.widget-view+json": {
              "version_major": 2,
              "version_minor": 0,
              "model_id": "ec6760fff2f14cada2a6a3908d3b1cd7"
            }
          },
          "metadata": {}
        }
      ]
    },
    {
      "cell_type": "code",
      "source": [
        "#hide\n",
        "# For the book, we can't actually click an upload button, so we fake it\n",
        "btn_upload = SimpleNamespace(data = ['/content/image_articles/Skirts/9995.jpg'])"
      ],
      "metadata": {
        "id": "XLfBWTMqG_ti"
      },
      "execution_count": 13,
      "outputs": []
    },
    {
      "cell_type": "code",
      "source": [
        "import PIL\n",
        "img = PILImage.create(btn_upload.data[-1])"
      ],
      "metadata": {
        "id": "28mrZQ5_HUAS"
      },
      "execution_count": 15,
      "outputs": []
    },
    {
      "cell_type": "code",
      "source": [
        "#hide_output\n",
        "out_pl = widgets.Output()\n",
        "out_pl.clear_output()\n",
        "with out_pl: display(img.to_thumb(128,128))\n",
        "out_pl\n",
        "     "
      ],
      "metadata": {
        "colab": {
          "base_uri": "https://localhost:8080/",
          "height": 97,
          "referenced_widgets": [
            "0ff6ca4cb71e405ba24248ae43c92287",
            "5a296fb7e9cb4157aa18e1e0a62c152a"
          ]
        },
        "id": "-0zXuerKI-ir",
        "outputId": "6c180999-a62c-40d6-815a-89e8e599d883"
      },
      "execution_count": 16,
      "outputs": [
        {
          "output_type": "display_data",
          "data": {
            "text/plain": [
              "Output()"
            ],
            "application/vnd.jupyter.widget-view+json": {
              "version_major": 2,
              "version_minor": 0,
              "model_id": "0ff6ca4cb71e405ba24248ae43c92287"
            }
          },
          "metadata": {}
        }
      ]
    },
    {
      "cell_type": "code",
      "source": [
        "pred,pred_idx,probs = learn_inf.predict(img)"
      ],
      "metadata": {
        "colab": {
          "base_uri": "https://localhost:8080/",
          "height": 17
        },
        "id": "HbkZi0H8JaU2",
        "outputId": "3613ee82-676f-4957-a098-282aa6686f4c"
      },
      "execution_count": 24,
      "outputs": [
        {
          "output_type": "display_data",
          "data": {
            "text/plain": [
              "<IPython.core.display.HTML object>"
            ],
            "text/html": [
              "\n",
              "<style>\n",
              "    /* Turns off some styling */\n",
              "    progress {\n",
              "        /* gets rid of default border in Firefox and Opera. */\n",
              "        border: none;\n",
              "        /* Needs to be in here for Safari polyfill so background images work as expected. */\n",
              "        background-size: auto;\n",
              "    }\n",
              "    progress:not([value]), progress:not([value])::-webkit-progress-bar {\n",
              "        background: repeating-linear-gradient(45deg, #7e7e7e, #7e7e7e 10px, #5c5c5c 10px, #5c5c5c 20px);\n",
              "    }\n",
              "    .progress-bar-interrupted, .progress-bar-interrupted::-webkit-progress-bar {\n",
              "        background: #F44336;\n",
              "    }\n",
              "</style>\n"
            ]
          },
          "metadata": {}
        },
        {
          "output_type": "display_data",
          "data": {
            "text/plain": [
              "<IPython.core.display.HTML object>"
            ],
            "text/html": []
          },
          "metadata": {}
        }
      ]
    },
    {
      "cell_type": "code",
      "source": [
        "#hide_output\n",
        "lbl_pred = widgets.Label()\n",
        "lbl_pred.value = f'Prediction: {pred}; Probability: {probs[pred_idx]:.04f}'\n",
        "lbl_pred\n",
        "     "
      ],
      "metadata": {
        "colab": {
          "base_uri": "https://localhost:8080/",
          "height": 49,
          "referenced_widgets": [
            "3b5f31186e674e0990424cae6ecced47",
            "a5d168aa55e648f995c3ad79e65c0efb",
            "152c8f49831942f6b25e7488d889b5fb"
          ]
        },
        "id": "ePRUdozjKbDH",
        "outputId": "4fe2cbb2-4b1b-4539-9a75-e12c2ec7b0cd"
      },
      "execution_count": 25,
      "outputs": [
        {
          "output_type": "display_data",
          "data": {
            "text/plain": [
              "Label(value='Prediction: Skirts; Probability: 0.8692')"
            ],
            "application/vnd.jupyter.widget-view+json": {
              "version_major": 2,
              "version_minor": 0,
              "model_id": "3b5f31186e674e0990424cae6ecced47"
            }
          },
          "metadata": {}
        }
      ]
    },
    {
      "cell_type": "code",
      "source": [
        "#hide_output\n",
        "btn_run = widgets.Button(description='Classify')\n",
        "btn_run"
      ],
      "metadata": {
        "colab": {
          "base_uri": "https://localhost:8080/",
          "height": 49,
          "referenced_widgets": [
            "212eaec89b8149c6ac23a264076f9267",
            "bdbe87cdba82496a8a664e0afe510855",
            "4a3971896332488d9e3d2383224b84ae"
          ]
        },
        "id": "g5UV-q1xKfyk",
        "outputId": "e4f0ee0e-cc44-4c9a-f155-ebb3deadd64d"
      },
      "execution_count": 27,
      "outputs": [
        {
          "output_type": "display_data",
          "data": {
            "text/plain": [
              "Button(description='Classify', style=ButtonStyle())"
            ],
            "application/vnd.jupyter.widget-view+json": {
              "version_major": 2,
              "version_minor": 0,
              "model_id": "212eaec89b8149c6ac23a264076f9267"
            }
          },
          "metadata": {}
        }
      ]
    },
    {
      "cell_type": "code",
      "source": [
        "def on_click_classify(change):\n",
        "    img = PILImage.create(btn_upload.data[-1])\n",
        "    out_pl.clear_output()\n",
        "    with out_pl: display(img.to_thumb(128,128))\n",
        "    pred,pred_idx,probs = learn_inf.predict(img)\n",
        "    lbl_pred.value = f'Prediction: {pred}; Probability: {probs[pred_idx]:.04f}'\n",
        "\n",
        "btn_run.on_click(on_click_classify)"
      ],
      "metadata": {
        "id": "WIIjFDcLKjET"
      },
      "execution_count": 28,
      "outputs": []
    },
    {
      "cell_type": "code",
      "source": [
        "\n",
        "#Putting back btn_upload to a widget for next cell\n",
        "btn_upload = widgets.FileUpload()\n",
        "widgets.VBox([widgets.Label('Select your fashion item'), btn_upload, btn_run, out_pl, lbl_pred])"
      ],
      "metadata": {
        "colab": {
          "base_uri": "https://localhost:8080/",
          "height": 225,
          "referenced_widgets": [
            "2be4f21830c447799034c7cea0f02336",
            "6cc301d4a25d4e0e99cc0b17c87923c1",
            "1a34b0a3a87e45f9a5bcf1f20970b32e",
            "212eaec89b8149c6ac23a264076f9267",
            "0ff6ca4cb71e405ba24248ae43c92287",
            "3b5f31186e674e0990424cae6ecced47",
            "a6ca9fae983a49779c80b276ab0f5ca5",
            "b31a92cb50464c819bdfa24ba2814baa",
            "6eb67f41b8814b85a74816d84aadc6ba",
            "67cc5f2d95c94ce8a175f999ad519eb0",
            "aad01a115ec14802ae07313ee32a9743",
            "bdbe87cdba82496a8a664e0afe510855",
            "4a3971896332488d9e3d2383224b84ae",
            "a5d168aa55e648f995c3ad79e65c0efb",
            "152c8f49831942f6b25e7488d889b5fb",
            "5a296fb7e9cb4157aa18e1e0a62c152a"
          ]
        },
        "id": "Qai8wex_KpFd",
        "outputId": "5b895ba0-8e02-4d64-f1b4-04649df75e4f"
      },
      "execution_count": 34,
      "outputs": [
        {
          "output_type": "display_data",
          "data": {
            "text/plain": [
              "VBox(children=(Label(value='Select your fashion item'), FileUpload(value={}, description='Upload'), Button(des…"
            ],
            "application/vnd.jupyter.widget-view+json": {
              "version_major": 2,
              "version_minor": 0,
              "model_id": "2be4f21830c447799034c7cea0f02336"
            }
          },
          "metadata": {}
        }
      ]
    },
    {
      "cell_type": "code",
      "source": [
        "!pip install voila\n",
        "!jupyter serverextension enable --sys-prefix voila "
      ],
      "metadata": {
        "colab": {
          "base_uri": "https://localhost:8080/"
        },
        "id": "QDwoeTvvKvoO",
        "outputId": "e027dce3-e949-41d5-cf7c-68d6a9df5961"
      },
      "execution_count": 35,
      "outputs": [
        {
          "output_type": "stream",
          "name": "stdout",
          "text": [
            "Looking in indexes: https://pypi.org/simple, https://us-python.pkg.dev/colab-wheels/public/simple/\n",
            "Collecting voila\n",
            "  Downloading voila-0.4.0-py3-none-any.whl (5.5 MB)\n",
            "\u001b[2K     \u001b[90m━━━━━━━━━━━━━━━━━━━━━━━━━━━━━━━━━━━━━━━━\u001b[0m \u001b[32m5.5/5.5 MB\u001b[0m \u001b[31m23.5 MB/s\u001b[0m eta \u001b[36m0:00:00\u001b[0m\n",
            "\u001b[?25hCollecting nbclient<0.8,>=0.4.0\n",
            "  Downloading nbclient-0.7.2-py3-none-any.whl (71 kB)\n",
            "\u001b[2K     \u001b[90m━━━━━━━━━━━━━━━━━━━━━━━━━━━━━━━━━━━━━━━━\u001b[0m \u001b[32m72.0/72.0 KB\u001b[0m \u001b[31m7.9 MB/s\u001b[0m eta \u001b[36m0:00:00\u001b[0m\n",
            "\u001b[?25hRequirement already satisfied: jupyter-core>=4.11.0 in /usr/local/lib/python3.8/dist-packages (from voila) (5.1.1)\n",
            "Collecting nbconvert<8,>=6.4.5\n",
            "  Downloading nbconvert-7.2.7-py3-none-any.whl (273 kB)\n",
            "\u001b[2K     \u001b[90m━━━━━━━━━━━━━━━━━━━━━━━━━━━━━━━━━━━━━━\u001b[0m \u001b[32m273.2/273.2 KB\u001b[0m \u001b[31m21.6 MB/s\u001b[0m eta \u001b[36m0:00:00\u001b[0m\n",
            "\u001b[?25hRequirement already satisfied: jupyter-client<=7.4.1,>=6.1.3 in /usr/local/lib/python3.8/dist-packages (from voila) (6.1.12)\n",
            "Collecting jupyterlab-server<3,>=2.3.0\n",
            "  Downloading jupyterlab_server-2.18.0-py3-none-any.whl (56 kB)\n",
            "\u001b[2K     \u001b[90m━━━━━━━━━━━━━━━━━━━━━━━━━━━━━━━━━━━━━━━━\u001b[0m \u001b[32m56.4/56.4 KB\u001b[0m \u001b[31m6.9 MB/s\u001b[0m eta \u001b[36m0:00:00\u001b[0m\n",
            "\u001b[?25hCollecting jupyter-server<2.0.0,>=1.18\n",
            "  Downloading jupyter_server-1.23.4-py3-none-any.whl (346 kB)\n",
            "\u001b[2K     \u001b[90m━━━━━━━━━━━━━━━━━━━━━━━━━━━━━━━━━━━━━━\u001b[0m \u001b[32m346.8/346.8 KB\u001b[0m \u001b[31m30.6 MB/s\u001b[0m eta \u001b[36m0:00:00\u001b[0m\n",
            "\u001b[?25hCollecting websockets>=9.0\n",
            "  Downloading websockets-10.4-cp38-cp38-manylinux_2_5_x86_64.manylinux1_x86_64.manylinux_2_17_x86_64.manylinux2014_x86_64.whl (106 kB)\n",
            "\u001b[2K     \u001b[90m━━━━━━━━━━━━━━━━━━━━━━━━━━━━━━━━━━━━━━\u001b[0m \u001b[32m107.0/107.0 KB\u001b[0m \u001b[31m12.4 MB/s\u001b[0m eta \u001b[36m0:00:00\u001b[0m\n",
            "\u001b[?25hRequirement already satisfied: traitlets<6,>=5.0.3 in /usr/local/lib/python3.8/dist-packages (from voila) (5.7.1)\n",
            "Requirement already satisfied: pyzmq>=13 in /usr/local/lib/python3.8/dist-packages (from jupyter-client<=7.4.1,>=6.1.3->voila) (23.2.1)\n",
            "Requirement already satisfied: tornado>=4.1 in /usr/local/lib/python3.8/dist-packages (from jupyter-client<=7.4.1,>=6.1.3->voila) (6.0.4)\n",
            "Requirement already satisfied: python-dateutil>=2.1 in /usr/local/lib/python3.8/dist-packages (from jupyter-client<=7.4.1,>=6.1.3->voila) (2.8.2)\n",
            "Requirement already satisfied: platformdirs>=2.5 in /usr/local/lib/python3.8/dist-packages (from jupyter-core>=4.11.0->voila) (2.6.0)\n",
            "Collecting tornado>=4.1\n",
            "  Downloading tornado-6.2-cp37-abi3-manylinux_2_5_x86_64.manylinux1_x86_64.manylinux_2_17_x86_64.manylinux2014_x86_64.whl (423 kB)\n",
            "\u001b[2K     \u001b[90m━━━━━━━━━━━━━━━━━━━━━━━━━━━━━━━━━━━━━━\u001b[0m \u001b[32m424.0/424.0 KB\u001b[0m \u001b[31m34.6 MB/s\u001b[0m eta \u001b[36m0:00:00\u001b[0m\n",
            "\u001b[?25hCollecting websocket-client\n",
            "  Downloading websocket_client-1.4.2-py3-none-any.whl (55 kB)\n",
            "\u001b[2K     \u001b[90m━━━━━━━━━━━━━━━━━━━━━━━━━━━━━━━━━━━━━━━━\u001b[0m \u001b[32m55.3/55.3 KB\u001b[0m \u001b[31m6.9 MB/s\u001b[0m eta \u001b[36m0:00:00\u001b[0m\n",
            "\u001b[?25hRequirement already satisfied: Send2Trash in /usr/local/lib/python3.8/dist-packages (from jupyter-server<2.0.0,>=1.18->voila) (1.8.0)\n",
            "Requirement already satisfied: packaging in /usr/local/lib/python3.8/dist-packages (from jupyter-server<2.0.0,>=1.18->voila) (21.3)\n",
            "Requirement already satisfied: terminado>=0.8.3 in /usr/local/lib/python3.8/dist-packages (from jupyter-server<2.0.0,>=1.18->voila) (0.13.3)\n",
            "Requirement already satisfied: nbformat>=5.2.0 in /usr/local/lib/python3.8/dist-packages (from jupyter-server<2.0.0,>=1.18->voila) (5.7.1)\n",
            "Requirement already satisfied: prometheus-client in /usr/local/lib/python3.8/dist-packages (from jupyter-server<2.0.0,>=1.18->voila) (0.15.0)\n",
            "Requirement already satisfied: jinja2 in /usr/local/lib/python3.8/dist-packages (from jupyter-server<2.0.0,>=1.18->voila) (2.11.3)\n",
            "Collecting anyio<4,>=3.1.0\n",
            "  Downloading anyio-3.6.2-py3-none-any.whl (80 kB)\n",
            "\u001b[2K     \u001b[90m━━━━━━━━━━━━━━━━━━━━━━━━━━━━━━━━━━━━━━━━\u001b[0m \u001b[32m80.6/80.6 KB\u001b[0m \u001b[31m7.8 MB/s\u001b[0m eta \u001b[36m0:00:00\u001b[0m\n",
            "\u001b[?25hCollecting argon2-cffi\n",
            "  Downloading argon2_cffi-21.3.0-py3-none-any.whl (14 kB)\n",
            "Requirement already satisfied: babel>=2.10 in /usr/local/lib/python3.8/dist-packages (from jupyterlab-server<3,>=2.3.0->voila) (2.11.0)\n",
            "Collecting jsonschema>=4.17.3\n",
            "  Downloading jsonschema-4.17.3-py3-none-any.whl (90 kB)\n",
            "\u001b[2K     \u001b[90m━━━━━━━━━━━━━━━━━━━━━━━━━━━━━━━━━━━━━━━━\u001b[0m \u001b[32m90.4/90.4 KB\u001b[0m \u001b[31m9.6 MB/s\u001b[0m eta \u001b[36m0:00:00\u001b[0m\n",
            "\u001b[?25hCollecting jinja2\n",
            "  Downloading Jinja2-3.1.2-py3-none-any.whl (133 kB)\n",
            "\u001b[2K     \u001b[90m━━━━━━━━━━━━━━━━━━━━━━━━━━━━━━━━━━━━━━\u001b[0m \u001b[32m133.1/133.1 KB\u001b[0m \u001b[31m16.1 MB/s\u001b[0m eta \u001b[36m0:00:00\u001b[0m\n",
            "\u001b[?25hRequirement already satisfied: importlib-metadata>=4.8.3 in /usr/local/lib/python3.8/dist-packages (from jupyterlab-server<3,>=2.3.0->voila) (5.2.0)\n",
            "Collecting requests>=2.28\n",
            "  Downloading requests-2.28.1-py3-none-any.whl (62 kB)\n",
            "\u001b[2K     \u001b[90m━━━━━━━━━━━━━━━━━━━━━━━━━━━━━━━━━━━━━━━━\u001b[0m \u001b[32m62.8/62.8 KB\u001b[0m \u001b[31m7.0 MB/s\u001b[0m eta \u001b[36m0:00:00\u001b[0m\n",
            "\u001b[?25hCollecting json5>=0.9.0\n",
            "  Downloading json5-0.9.11-py2.py3-none-any.whl (19 kB)\n",
            "Collecting tinycss2\n",
            "  Downloading tinycss2-1.2.1-py3-none-any.whl (21 kB)\n",
            "Requirement already satisfied: pygments>=2.4.1 in /usr/local/lib/python3.8/dist-packages (from nbconvert<8,>=6.4.5->voila) (2.6.1)\n",
            "Requirement already satisfied: beautifulsoup4 in /usr/local/lib/python3.8/dist-packages (from nbconvert<8,>=6.4.5->voila) (4.6.3)\n",
            "Collecting jupyterlab-pygments\n",
            "  Downloading jupyterlab_pygments-0.2.2-py2.py3-none-any.whl (21 kB)\n",
            "Requirement already satisfied: markupsafe>=2.0 in /usr/local/lib/python3.8/dist-packages (from nbconvert<8,>=6.4.5->voila) (2.0.1)\n",
            "Requirement already satisfied: bleach in /usr/local/lib/python3.8/dist-packages (from nbconvert<8,>=6.4.5->voila) (5.0.1)\n",
            "Requirement already satisfied: pandocfilters>=1.4.1 in /usr/local/lib/python3.8/dist-packages (from nbconvert<8,>=6.4.5->voila) (1.5.0)\n",
            "Collecting mistune<3,>=2.0.3\n",
            "  Downloading mistune-2.0.4-py2.py3-none-any.whl (24 kB)\n",
            "Requirement already satisfied: defusedxml in /usr/local/lib/python3.8/dist-packages (from nbconvert<8,>=6.4.5->voila) (0.7.1)\n",
            "Collecting sniffio>=1.1\n",
            "  Downloading sniffio-1.3.0-py3-none-any.whl (10 kB)\n",
            "Requirement already satisfied: idna>=2.8 in /usr/local/lib/python3.8/dist-packages (from anyio<4,>=3.1.0->jupyter-server<2.0.0,>=1.18->voila) (2.10)\n",
            "Requirement already satisfied: pytz>=2015.7 in /usr/local/lib/python3.8/dist-packages (from babel>=2.10->jupyterlab-server<3,>=2.3.0->voila) (2022.7)\n",
            "Requirement already satisfied: zipp>=0.5 in /usr/local/lib/python3.8/dist-packages (from importlib-metadata>=4.8.3->jupyterlab-server<3,>=2.3.0->voila) (3.11.0)\n",
            "Requirement already satisfied: pyrsistent!=0.17.0,!=0.17.1,!=0.17.2,>=0.14.0 in /usr/local/lib/python3.8/dist-packages (from jsonschema>=4.17.3->jupyterlab-server<3,>=2.3.0->voila) (0.19.2)\n",
            "Requirement already satisfied: importlib-resources>=1.4.0 in /usr/local/lib/python3.8/dist-packages (from jsonschema>=4.17.3->jupyterlab-server<3,>=2.3.0->voila) (5.10.1)\n",
            "Collecting pkgutil-resolve-name>=1.3.10\n",
            "  Downloading pkgutil_resolve_name-1.3.10-py3-none-any.whl (4.7 kB)\n",
            "Requirement already satisfied: attrs>=17.4.0 in /usr/local/lib/python3.8/dist-packages (from jsonschema>=4.17.3->jupyterlab-server<3,>=2.3.0->voila) (22.2.0)\n",
            "Requirement already satisfied: fastjsonschema in /usr/local/lib/python3.8/dist-packages (from nbformat>=5.2.0->jupyter-server<2.0.0,>=1.18->voila) (2.16.2)\n",
            "Requirement already satisfied: pyparsing!=3.0.5,>=2.0.2 in /usr/local/lib/python3.8/dist-packages (from packaging->jupyter-server<2.0.0,>=1.18->voila) (3.0.9)\n",
            "Requirement already satisfied: six>=1.5 in /usr/local/lib/python3.8/dist-packages (from python-dateutil>=2.1->jupyter-client<=7.4.1,>=6.1.3->voila) (1.15.0)\n",
            "Requirement already satisfied: urllib3<1.27,>=1.21.1 in /usr/local/lib/python3.8/dist-packages (from requests>=2.28->jupyterlab-server<3,>=2.3.0->voila) (1.24.3)\n",
            "Requirement already satisfied: charset-normalizer<3,>=2 in /usr/local/lib/python3.8/dist-packages (from requests>=2.28->jupyterlab-server<3,>=2.3.0->voila) (2.1.1)\n",
            "Requirement already satisfied: certifi>=2017.4.17 in /usr/local/lib/python3.8/dist-packages (from requests>=2.28->jupyterlab-server<3,>=2.3.0->voila) (2022.12.7)\n",
            "Requirement already satisfied: ptyprocess in /usr/local/lib/python3.8/dist-packages (from terminado>=0.8.3->jupyter-server<2.0.0,>=1.18->voila) (0.7.0)\n",
            "Collecting argon2-cffi-bindings\n",
            "  Downloading argon2_cffi_bindings-21.2.0-cp36-abi3-manylinux_2_17_x86_64.manylinux2014_x86_64.whl (86 kB)\n",
            "\u001b[2K     \u001b[90m━━━━━━━━━━━━━━━━━━━━━━━━━━━━━━━━━━━━━━━━\u001b[0m \u001b[32m86.2/86.2 KB\u001b[0m \u001b[31m10.3 MB/s\u001b[0m eta \u001b[36m0:00:00\u001b[0m\n",
            "\u001b[?25hRequirement already satisfied: webencodings in /usr/local/lib/python3.8/dist-packages (from bleach->nbconvert<8,>=6.4.5->voila) (0.5.1)\n",
            "Requirement already satisfied: cffi>=1.0.1 in /usr/local/lib/python3.8/dist-packages (from argon2-cffi-bindings->argon2-cffi->jupyter-server<2.0.0,>=1.18->voila) (1.15.1)\n",
            "Requirement already satisfied: pycparser in /usr/local/lib/python3.8/dist-packages (from cffi>=1.0.1->argon2-cffi-bindings->argon2-cffi->jupyter-server<2.0.0,>=1.18->voila) (2.21)\n",
            "Installing collected packages: mistune, json5, websockets, websocket-client, tornado, tinycss2, sniffio, requests, pkgutil-resolve-name, jupyterlab-pygments, jinja2, jsonschema, argon2-cffi-bindings, anyio, argon2-cffi, nbclient, nbconvert, jupyter-server, jupyterlab-server, voila\n",
            "  Attempting uninstall: mistune\n",
            "    Found existing installation: mistune 0.8.4\n",
            "    Uninstalling mistune-0.8.4:\n",
            "      Successfully uninstalled mistune-0.8.4\n",
            "  Attempting uninstall: tornado\n",
            "    Found existing installation: tornado 6.0.4\n",
            "    Uninstalling tornado-6.0.4:\n",
            "      Successfully uninstalled tornado-6.0.4\n",
            "  Attempting uninstall: requests\n",
            "    Found existing installation: requests 2.25.1\n",
            "    Uninstalling requests-2.25.1:\n",
            "      Successfully uninstalled requests-2.25.1\n",
            "  Attempting uninstall: jinja2\n",
            "    Found existing installation: Jinja2 2.11.3\n",
            "    Uninstalling Jinja2-2.11.3:\n",
            "      Successfully uninstalled Jinja2-2.11.3\n",
            "  Attempting uninstall: jsonschema\n",
            "    Found existing installation: jsonschema 4.3.3\n",
            "    Uninstalling jsonschema-4.3.3:\n",
            "      Successfully uninstalled jsonschema-4.3.3\n",
            "  Attempting uninstall: nbconvert\n",
            "    Found existing installation: nbconvert 5.6.1\n",
            "    Uninstalling nbconvert-5.6.1:\n",
            "      Successfully uninstalled nbconvert-5.6.1\n",
            "\u001b[31mERROR: pip's dependency resolver does not currently take into account all the packages that are installed. This behaviour is the source of the following dependency conflicts.\n",
            "notebook 5.7.16 requires jinja2<=3.0.0, but you have jinja2 3.1.2 which is incompatible.\n",
            "notebook 5.7.16 requires nbconvert<6.0, but you have nbconvert 7.2.7 which is incompatible.\n",
            "google-colab 1.0.0 requires tornado~=6.0.4, but you have tornado 6.2 which is incompatible.\n",
            "flask 1.1.4 requires Jinja2<3.0,>=2.10.1, but you have jinja2 3.1.2 which is incompatible.\u001b[0m\u001b[31m\n",
            "\u001b[0mSuccessfully installed anyio-3.6.2 argon2-cffi-21.3.0 argon2-cffi-bindings-21.2.0 jinja2-3.1.2 json5-0.9.11 jsonschema-4.17.3 jupyter-server-1.23.4 jupyterlab-pygments-0.2.2 jupyterlab-server-2.18.0 mistune-2.0.4 nbclient-0.7.2 nbconvert-7.2.7 pkgutil-resolve-name-1.3.10 requests-2.28.1 sniffio-1.3.0 tinycss2-1.2.1 tornado-6.2 voila-0.4.0 websocket-client-1.4.2 websockets-10.4\n",
            "Enabling: voila\n",
            "- Writing config: /usr/etc/jupyter\n",
            "    - Validating...\n",
            "      voila 0.4.0 \u001b[32mOK\u001b[0m\n"
          ]
        }
      ]
    },
    {
      "cell_type": "code",
      "source": [],
      "metadata": {
        "id": "7OnoayMYLu42"
      },
      "execution_count": null,
      "outputs": []
    }
  ]
}