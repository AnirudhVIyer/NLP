{
  "nbformat": 4,
  "nbformat_minor": 0,
  "metadata": {
    "colab": {
      "provenance": [],
      "mount_file_id": "10SrYk8ixa2CDz6RgxiUv_USNx2p0jYTU",
      "authorship_tag": "ABX9TyNlgCrcS+eNKqVmfggCUUe2",
      "include_colab_link": true
    },
    "kernelspec": {
      "name": "python3",
      "display_name": "Python 3"
    },
    "language_info": {
      "name": "python"
    },
    "accelerator": "GPU",
    "gpuClass": "standard"
  },
  "cells": [
    {
      "cell_type": "markdown",
      "metadata": {
        "id": "view-in-github",
        "colab_type": "text"
      },
      "source": [
        "<a href=\"https://colab.research.google.com/github/AnirudhVIyer/NLP/blob/main/POS_lstm_PyTorch.ipynb\" target=\"_parent\"><img src=\"https://colab.research.google.com/assets/colab-badge.svg\" alt=\"Open In Colab\"/></a>"
      ]
    },
    {
      "cell_type": "markdown",
      "source": [
        "Create an LSTM based seq-seq labelling POS model.\n",
        "\n",
        "We Will use pre-trained glove embeddings with dimension=100"
      ],
      "metadata": {
        "id": "9sPNO7B7Ru4i"
      }
    },
    {
      "cell_type": "code",
      "source": [],
      "metadata": {
        "id": "rDQQJYIeRk4Z"
      },
      "execution_count": null,
      "outputs": []
    },
    {
      "cell_type": "code",
      "execution_count": 1,
      "metadata": {
        "id": "DNKO7W-JRYo-"
      },
      "outputs": [],
      "source": [
        "import torch\n",
        "import torch.nn as nn # All neural network modules, nn.Linear, nn.Conv2d, BatchNorm, Loss functions\n",
        "import torch.optim as optim # For all Optimization algorithms, SGD, Adam, etc.\n",
        "import torch.nn.functional as Func # All functions that don't have any parameters\n",
        "from torch.utils.data import DataLoader # Gives easier dataset managment and creates mini batches\n",
        "import torchvision.datasets as datasets # Has standard datasets we can import in a nice and easy way\n",
        "import torchvision.transforms as transforms # Transformations we can perform"
      ]
    },
    {
      "cell_type": "code",
      "source": [
        "!wget http://nlp.stanford.edu/data/glove.6B.zip\n",
        "!unzip glove.6B.zip\n",
        "!ls -lat"
      ],
      "metadata": {
        "colab": {
          "base_uri": "https://localhost:8080/"
        },
        "id": "tvzxPAi5SAbj",
        "outputId": "e3a16ddc-e50b-4804-e91d-ee54f750fe94"
      },
      "execution_count": 3,
      "outputs": [
        {
          "output_type": "stream",
          "name": "stdout",
          "text": [
            "--2023-02-04 15:58:54--  http://nlp.stanford.edu/data/glove.6B.zip\n",
            "Resolving nlp.stanford.edu (nlp.stanford.edu)... 171.64.67.140\n",
            "Connecting to nlp.stanford.edu (nlp.stanford.edu)|171.64.67.140|:80... connected.\n",
            "HTTP request sent, awaiting response... 302 Found\n",
            "Location: https://nlp.stanford.edu/data/glove.6B.zip [following]\n",
            "--2023-02-04 15:58:54--  https://nlp.stanford.edu/data/glove.6B.zip\n",
            "Connecting to nlp.stanford.edu (nlp.stanford.edu)|171.64.67.140|:443... connected.\n",
            "HTTP request sent, awaiting response... 301 Moved Permanently\n",
            "Location: https://downloads.cs.stanford.edu/nlp/data/glove.6B.zip [following]\n",
            "--2023-02-04 15:58:55--  https://downloads.cs.stanford.edu/nlp/data/glove.6B.zip\n",
            "Resolving downloads.cs.stanford.edu (downloads.cs.stanford.edu)... 171.64.64.22\n",
            "Connecting to downloads.cs.stanford.edu (downloads.cs.stanford.edu)|171.64.64.22|:443... connected.\n",
            "HTTP request sent, awaiting response... 200 OK\n",
            "Length: 862182613 (822M) [application/zip]\n",
            "Saving to: ‘glove.6B.zip’\n",
            "\n",
            "glove.6B.zip        100%[===================>] 822.24M  2.99MB/s    in 5m 39s  \n",
            "\n",
            "2023-02-04 16:04:35 (2.43 MB/s) - ‘glove.6B.zip’ saved [862182613/862182613]\n",
            "\n",
            "Archive:  glove.6B.zip\n",
            "  inflating: glove.6B.50d.txt        \n",
            "  inflating: glove.6B.100d.txt       \n",
            "  inflating: glove.6B.200d.txt       \n",
            "  inflating: glove.6B.300d.txt       \n",
            "total 3039152\n",
            "drwxr-xr-x 1 root root       4096 Feb  4 16:04 .\n",
            "drwx------ 5 root root       4096 Feb  4 15:55 drive\n",
            "drwxr-xr-x 1 root root       4096 Feb  4 15:55 ..\n",
            "drwxr-xr-x 1 root root       4096 Feb  2 14:40 sample_data\n",
            "drwxr-xr-x 4 root root       4096 Feb  2 14:39 .config\n",
            "-rw-r--r-- 1 root root  862182613 Oct 25  2015 glove.6B.zip\n",
            "-rw-rw-r-- 1 root root 1037962819 Aug 27  2014 glove.6B.300d.txt\n",
            "-rw-rw-r-- 1 root root  171350079 Aug  4  2014 glove.6B.50d.txt\n",
            "-rw-rw-r-- 1 root root  693432828 Aug  4  2014 glove.6B.200d.txt\n",
            "-rw-rw-r-- 1 root root  347116733 Aug  4  2014 glove.6B.100d.txt\n"
          ]
        }
      ]
    },
    {
      "cell_type": "code",
      "source": [
        "vocab,embeddings = [],[]\n",
        "with open('glove.6B.100d.txt','rt') as fi:\n",
        "    full_content = fi.read().strip().split('\\n')\n",
        "for i in range(len(full_content)):\n",
        "    i_word = full_content[i].split(' ')[0]\n",
        "    i_embeddings = [float(val) for val in full_content[i].split(' ')[1:]]\n",
        "    vocab.append(i_word)\n",
        "    embeddings.append(i_embeddings)"
      ],
      "metadata": {
        "id": "5W66SFrHSD6G"
      },
      "execution_count": 4,
      "outputs": []
    },
    {
      "cell_type": "code",
      "source": [
        "import numpy as np\n",
        "vocab_npa = np.array(vocab)\n",
        "embs_npa = np.array(embeddings)\n",
        "\n",
        "#insert '<pad>' and '<unk>' tokens at start of vocab_npa.\n",
        "vocab_npa = np.insert(vocab_npa, 0, '<pad>')\n",
        "vocab_npa = np.insert(vocab_npa, 1, '<unk>')\n",
        "print(vocab_npa[:10])\n",
        "\n",
        "pad_emb_npa = np.zeros((1,embs_npa.shape[1]))   #embedding for '<pad>' token.\n",
        "unk_emb_npa = np.mean(embs_npa,axis=0,keepdims=True)    #embedding for '<unk>' token.\n",
        "\n",
        "#insert embeddings for pad and unk tokens at top of embs_npa.\n",
        "embs_npa = np.vstack((pad_emb_npa,unk_emb_npa,embs_npa))\n",
        "print(embs_npa.shape)"
      ],
      "metadata": {
        "colab": {
          "base_uri": "https://localhost:8080/"
        },
        "id": "N9Wfz8CaV7-7",
        "outputId": "7c54fb8d-b895-48b8-dbf5-70d5e76cd1ba"
      },
      "execution_count": 5,
      "outputs": [
        {
          "output_type": "stream",
          "name": "stdout",
          "text": [
            "['<pad>' '<unk>' 'the' ',' '.' 'of' 'to' 'and' 'in' 'a']\n",
            "(400002, 100)\n"
          ]
        }
      ]
    },
    {
      "cell_type": "code",
      "source": [
        "with open('vocab_np_100.npy','wb') as f:\n",
        "    np.save(f,vocab_npa)\n",
        "\n",
        "with open('embeddings_np_100.npy','wb') as f:\n",
        "    np.save(f,embs_npa)"
      ],
      "metadata": {
        "id": "voIM_LZxWxiN"
      },
      "execution_count": null,
      "outputs": []
    },
    {
      "cell_type": "code",
      "source": [
        "from google.colab import drive\n",
        "drive.mount('/content/drive')"
      ],
      "metadata": {
        "colab": {
          "base_uri": "https://localhost:8080/"
        },
        "id": "l0XXjsbdT7sr",
        "outputId": "90718bed-90a5-47f5-8d9c-4d07183a079f"
      },
      "execution_count": 2,
      "outputs": [
        {
          "output_type": "stream",
          "name": "stdout",
          "text": [
            "Drive already mounted at /content/drive; to attempt to forcibly remount, call drive.mount(\"/content/drive\", force_remount=True).\n"
          ]
        }
      ]
    },
    {
      "cell_type": "code",
      "source": [
        "!cp -av '/content/embeddings_np_100.npy' '/content/drive/MyDrive'\n",
        "!cp -av '/content/vocab_np_100.npy' '/content/drive/MyDrive'"
      ],
      "metadata": {
        "colab": {
          "base_uri": "https://localhost:8080/"
        },
        "id": "NgXwcf4oX0t7",
        "outputId": "167bc17a-bfc7-4022-8910-a8ea482b6076"
      },
      "execution_count": null,
      "outputs": [
        {
          "output_type": "stream",
          "name": "stdout",
          "text": [
            "'/content/embeddings_np_100.npy' -> '/content/drive/MyDrive/embeddings_np_100.npy'\n",
            "'/content/vocab_np_100.npy' -> '/content/drive/MyDrive/vocab_np_100.npy'\n"
          ]
        }
      ]
    },
    {
      "cell_type": "code",
      "source": [
        "import torch\n",
        "my_embedding_layer = torch.nn.Embedding.from_pretrained(torch.from_numpy(embs_npa).float())\n",
        "\n",
        "assert my_embedding_layer.weight.shape == embs_npa.shape\n",
        "print(my_embedding_layer.weight.shape)"
      ],
      "metadata": {
        "colab": {
          "base_uri": "https://localhost:8080/"
        },
        "id": "V-HFzxcSYlCL",
        "outputId": "57d5e2bb-938e-4c98-aba5-7d57cd45cf3f"
      },
      "execution_count": 6,
      "outputs": [
        {
          "output_type": "stream",
          "name": "stdout",
          "text": [
            "torch.Size([400002, 100])\n"
          ]
        }
      ]
    },
    {
      "cell_type": "markdown",
      "source": [
        "Here all unknown words will have the same embeddings in the pre-trained layer\n",
        "This might effect the POS tags if those words are not present in the glove set\n",
        "\n",
        "Later train an embedding layer to check effect"
      ],
      "metadata": {
        "id": "uAwaJrIeWW9x"
      }
    },
    {
      "cell_type": "code",
      "source": [
        "import torch\n",
        "my_embedding_layer = torch.nn.Embedding.from_pretrained(torch.from_numpy(embs_npa).float())\n",
        "\n",
        "assert my_embedding_layer.weight.shape == embs_npa.shape\n",
        "print(my_embedding_layer.weight.shape)"
      ],
      "metadata": {
        "colab": {
          "base_uri": "https://localhost:8080/"
        },
        "id": "gP2oqa3pWT94",
        "outputId": "2b74a00b-b96c-46bc-ba94-e02f6bdb968a"
      },
      "execution_count": 7,
      "outputs": [
        {
          "output_type": "stream",
          "name": "stdout",
          "text": [
            "torch.Size([400002, 100])\n"
          ]
        }
      ]
    },
    {
      "cell_type": "code",
      "source": [
        "import pandas as pd\n",
        "df = pd.read_csv('/content/drive/MyDrive/ner_dataset.csv',encoding='latin-1')\n",
        "print(type(df))\n",
        "## each row will take sentence name from predecessor\n",
        "df = df.ffill(axis=0)\n",
        "df.head()\n",
        "\n",
        "##unique tags before grouping\n",
        "unique_POS = df['POS'].unique()\n",
        "#df_new = df.groupby('Sentence #')['Word'].apply(list)\n",
        "df_new = df.groupby(\"Sentence #\").agg(list)\n",
        "df_new = pd.DataFrame(df_new)\n",
        "df_new.head()\n"
      ],
      "metadata": {
        "colab": {
          "base_uri": "https://localhost:8080/",
          "height": 255
        },
        "id": "lvObBB7qAedd",
        "outputId": "7315363b-3426-4ec2-e37c-ecd36bf774f1"
      },
      "execution_count": 8,
      "outputs": [
        {
          "output_type": "stream",
          "name": "stdout",
          "text": [
            "<class 'pandas.core.frame.DataFrame'>\n"
          ]
        },
        {
          "output_type": "execute_result",
          "data": {
            "text/plain": [
              "                                                              Word  \\\n",
              "Sentence #                                                           \n",
              "Sentence: 1      [Thousands, of, demonstrators, have, marched, ...   \n",
              "Sentence: 10     [Iranian, officials, say, they, expect, to, ge...   \n",
              "Sentence: 100    [Helicopter, gunships, Saturday, pounded, mili...   \n",
              "Sentence: 1000   [They, left, after, a, tense, hour-long, stand...   \n",
              "Sentence: 10000  [U.N., relief, coordinator, Jan, Egeland, said...   \n",
              "\n",
              "                                                               POS  \\\n",
              "Sentence #                                                           \n",
              "Sentence: 1      [NNS, IN, NNS, VBP, VBN, IN, NNP, TO, VB, DT, ...   \n",
              "Sentence: 10     [JJ, NNS, VBP, PRP, VBP, TO, VB, NN, TO, JJ, J...   \n",
              "Sentence: 100    [NN, NNS, NNP, VBD, JJ, NNS, IN, DT, NNP, JJ, ...   \n",
              "Sentence: 1000      [PRP, VBD, IN, DT, NN, JJ, NN, IN, NN, NNS, .]   \n",
              "Sentence: 10000  [NNP, NN, NN, NNP, NNP, VBD, NNP, ,, NNP, ,, J...   \n",
              "\n",
              "                                                               Tag  \n",
              "Sentence #                                                          \n",
              "Sentence: 1      [O, O, O, O, O, O, B-geo, O, O, O, O, O, B-geo...  \n",
              "Sentence: 10     [B-gpe, O, O, O, O, O, O, O, O, O, O, O, O, O,...  \n",
              "Sentence: 100    [O, O, B-tim, O, O, O, O, O, B-geo, O, O, O, O...  \n",
              "Sentence: 1000                   [O, O, O, O, O, O, O, O, O, O, O]  \n",
              "Sentence: 10000  [B-geo, O, O, B-per, I-per, O, B-tim, O, B-geo...  "
            ],
            "text/html": [
              "\n",
              "  <div id=\"df-d00f34db-a58f-4646-9b3a-13aa69c3d6f7\">\n",
              "    <div class=\"colab-df-container\">\n",
              "      <div>\n",
              "<style scoped>\n",
              "    .dataframe tbody tr th:only-of-type {\n",
              "        vertical-align: middle;\n",
              "    }\n",
              "\n",
              "    .dataframe tbody tr th {\n",
              "        vertical-align: top;\n",
              "    }\n",
              "\n",
              "    .dataframe thead th {\n",
              "        text-align: right;\n",
              "    }\n",
              "</style>\n",
              "<table border=\"1\" class=\"dataframe\">\n",
              "  <thead>\n",
              "    <tr style=\"text-align: right;\">\n",
              "      <th></th>\n",
              "      <th>Word</th>\n",
              "      <th>POS</th>\n",
              "      <th>Tag</th>\n",
              "    </tr>\n",
              "    <tr>\n",
              "      <th>Sentence #</th>\n",
              "      <th></th>\n",
              "      <th></th>\n",
              "      <th></th>\n",
              "    </tr>\n",
              "  </thead>\n",
              "  <tbody>\n",
              "    <tr>\n",
              "      <th>Sentence: 1</th>\n",
              "      <td>[Thousands, of, demonstrators, have, marched, ...</td>\n",
              "      <td>[NNS, IN, NNS, VBP, VBN, IN, NNP, TO, VB, DT, ...</td>\n",
              "      <td>[O, O, O, O, O, O, B-geo, O, O, O, O, O, B-geo...</td>\n",
              "    </tr>\n",
              "    <tr>\n",
              "      <th>Sentence: 10</th>\n",
              "      <td>[Iranian, officials, say, they, expect, to, ge...</td>\n",
              "      <td>[JJ, NNS, VBP, PRP, VBP, TO, VB, NN, TO, JJ, J...</td>\n",
              "      <td>[B-gpe, O, O, O, O, O, O, O, O, O, O, O, O, O,...</td>\n",
              "    </tr>\n",
              "    <tr>\n",
              "      <th>Sentence: 100</th>\n",
              "      <td>[Helicopter, gunships, Saturday, pounded, mili...</td>\n",
              "      <td>[NN, NNS, NNP, VBD, JJ, NNS, IN, DT, NNP, JJ, ...</td>\n",
              "      <td>[O, O, B-tim, O, O, O, O, O, B-geo, O, O, O, O...</td>\n",
              "    </tr>\n",
              "    <tr>\n",
              "      <th>Sentence: 1000</th>\n",
              "      <td>[They, left, after, a, tense, hour-long, stand...</td>\n",
              "      <td>[PRP, VBD, IN, DT, NN, JJ, NN, IN, NN, NNS, .]</td>\n",
              "      <td>[O, O, O, O, O, O, O, O, O, O, O]</td>\n",
              "    </tr>\n",
              "    <tr>\n",
              "      <th>Sentence: 10000</th>\n",
              "      <td>[U.N., relief, coordinator, Jan, Egeland, said...</td>\n",
              "      <td>[NNP, NN, NN, NNP, NNP, VBD, NNP, ,, NNP, ,, J...</td>\n",
              "      <td>[B-geo, O, O, B-per, I-per, O, B-tim, O, B-geo...</td>\n",
              "    </tr>\n",
              "  </tbody>\n",
              "</table>\n",
              "</div>\n",
              "      <button class=\"colab-df-convert\" onclick=\"convertToInteractive('df-d00f34db-a58f-4646-9b3a-13aa69c3d6f7')\"\n",
              "              title=\"Convert this dataframe to an interactive table.\"\n",
              "              style=\"display:none;\">\n",
              "        \n",
              "  <svg xmlns=\"http://www.w3.org/2000/svg\" height=\"24px\"viewBox=\"0 0 24 24\"\n",
              "       width=\"24px\">\n",
              "    <path d=\"M0 0h24v24H0V0z\" fill=\"none\"/>\n",
              "    <path d=\"M18.56 5.44l.94 2.06.94-2.06 2.06-.94-2.06-.94-.94-2.06-.94 2.06-2.06.94zm-11 1L8.5 8.5l.94-2.06 2.06-.94-2.06-.94L8.5 2.5l-.94 2.06-2.06.94zm10 10l.94 2.06.94-2.06 2.06-.94-2.06-.94-.94-2.06-.94 2.06-2.06.94z\"/><path d=\"M17.41 7.96l-1.37-1.37c-.4-.4-.92-.59-1.43-.59-.52 0-1.04.2-1.43.59L10.3 9.45l-7.72 7.72c-.78.78-.78 2.05 0 2.83L4 21.41c.39.39.9.59 1.41.59.51 0 1.02-.2 1.41-.59l7.78-7.78 2.81-2.81c.8-.78.8-2.07 0-2.86zM5.41 20L4 18.59l7.72-7.72 1.47 1.35L5.41 20z\"/>\n",
              "  </svg>\n",
              "      </button>\n",
              "      \n",
              "  <style>\n",
              "    .colab-df-container {\n",
              "      display:flex;\n",
              "      flex-wrap:wrap;\n",
              "      gap: 12px;\n",
              "    }\n",
              "\n",
              "    .colab-df-convert {\n",
              "      background-color: #E8F0FE;\n",
              "      border: none;\n",
              "      border-radius: 50%;\n",
              "      cursor: pointer;\n",
              "      display: none;\n",
              "      fill: #1967D2;\n",
              "      height: 32px;\n",
              "      padding: 0 0 0 0;\n",
              "      width: 32px;\n",
              "    }\n",
              "\n",
              "    .colab-df-convert:hover {\n",
              "      background-color: #E2EBFA;\n",
              "      box-shadow: 0px 1px 2px rgba(60, 64, 67, 0.3), 0px 1px 3px 1px rgba(60, 64, 67, 0.15);\n",
              "      fill: #174EA6;\n",
              "    }\n",
              "\n",
              "    [theme=dark] .colab-df-convert {\n",
              "      background-color: #3B4455;\n",
              "      fill: #D2E3FC;\n",
              "    }\n",
              "\n",
              "    [theme=dark] .colab-df-convert:hover {\n",
              "      background-color: #434B5C;\n",
              "      box-shadow: 0px 1px 3px 1px rgba(0, 0, 0, 0.15);\n",
              "      filter: drop-shadow(0px 1px 2px rgba(0, 0, 0, 0.3));\n",
              "      fill: #FFFFFF;\n",
              "    }\n",
              "  </style>\n",
              "\n",
              "      <script>\n",
              "        const buttonEl =\n",
              "          document.querySelector('#df-d00f34db-a58f-4646-9b3a-13aa69c3d6f7 button.colab-df-convert');\n",
              "        buttonEl.style.display =\n",
              "          google.colab.kernel.accessAllowed ? 'block' : 'none';\n",
              "\n",
              "        async function convertToInteractive(key) {\n",
              "          const element = document.querySelector('#df-d00f34db-a58f-4646-9b3a-13aa69c3d6f7');\n",
              "          const dataTable =\n",
              "            await google.colab.kernel.invokeFunction('convertToInteractive',\n",
              "                                                     [key], {});\n",
              "          if (!dataTable) return;\n",
              "\n",
              "          const docLinkHtml = 'Like what you see? Visit the ' +\n",
              "            '<a target=\"_blank\" href=https://colab.research.google.com/notebooks/data_table.ipynb>data table notebook</a>'\n",
              "            + ' to learn more about interactive tables.';\n",
              "          element.innerHTML = '';\n",
              "          dataTable['output_type'] = 'display_data';\n",
              "          await google.colab.output.renderOutput(dataTable, element);\n",
              "          const docLink = document.createElement('div');\n",
              "          docLink.innerHTML = docLinkHtml;\n",
              "          element.appendChild(docLink);\n",
              "        }\n",
              "      </script>\n",
              "    </div>\n",
              "  </div>\n",
              "  "
            ]
          },
          "metadata": {},
          "execution_count": 8
        }
      ]
    },
    {
      "cell_type": "code",
      "source": [
        "df_new.sample(10)"
      ],
      "metadata": {
        "colab": {
          "base_uri": "https://localhost:8080/",
          "height": 394
        },
        "id": "N-HXn1CkHPMN",
        "outputId": "8128dac7-84f7-4ea1-9c12-484644f20b6d"
      },
      "execution_count": 9,
      "outputs": [
        {
          "output_type": "execute_result",
          "data": {
            "text/plain": [
              "                                                              Word  \\\n",
              "Sentence #                                                           \n",
              "Sentence: 46576  [U.S., Defense, Secretary, Donald, Rumsfeld, s...   \n",
              "Sentence: 12745  [Church, and, state, leaders, have, joined, or...   \n",
              "Sentence: 2615   [The, Israeli, army, says, troops, raided, the...   \n",
              "Sentence: 22551  [Australia, is, making, its, first, World, Cup...   \n",
              "Sentence: 37134  [They, crossed, the, Kowal, with, a, Muskie, a...   \n",
              "Sentence: 32058  [The, president, 's, action, followed, a, parl...   \n",
              "Sentence: 40779  [Hurricane, Dean, struck, the, island, in, Aug...   \n",
              "Sentence: 40370  [Al-Manar, headquarters, in, southern, Lebanon...   \n",
              "Sentence: 25131  [Earlier, U.S., officials, said, Washington, p...   \n",
              "Sentence: 42883  [President, Bush, has, asked, the, business, l...   \n",
              "\n",
              "                                                               POS  \\\n",
              "Sentence #                                                           \n",
              "Sentence: 46576  [NNP, NNP, NNP, NNP, NNP, VBD, NNP, DT, NNP, N...   \n",
              "Sentence: 12745  [NN, CC, NN, NNS, VBP, VBN, JJ, NNS, IN, NNP, ...   \n",
              "Sentence: 2615   [DT, JJ, NN, VBZ, NNS, VBD, DT, NNP, NNP, NN, ...   \n",
              "Sentence: 22551  [NNP, VBZ, VBG, PRP$, JJ, NNP, NNP, NN, IN, CD...   \n",
              "Sentence: 37134  [PRP, VBD, DT, NNP, IN, DT, NN, CC, VBD, PRP, ...   \n",
              "Sentence: 32058  [DT, NN, POS, NN, VBD, DT, JJ, NN, VBG, NNP, N...   \n",
              "Sentence: 40779  [NN, NNP, VBD, DT, NN, IN, NNP, CD, VBG, NNS, ...   \n",
              "Sentence: 40370  [NNP, NN, IN, JJ, NNP, VBP, VBN, VBN, IN, DT, ...   \n",
              "Sentence: 25131  [RBR, NNP, NNS, VBD, NNP, VBZ, TO, VB, NN, IN,...   \n",
              "Sentence: 42883  [NNP, NNP, VBZ, VBN, DT, NN, NNS, TO, VB, NNP,...   \n",
              "\n",
              "                                                               Tag  \n",
              "Sentence #                                                          \n",
              "Sentence: 46576  [B-org, I-org, B-per, I-per, I-per, O, B-tim, ...  \n",
              "Sentence: 12745  [O, O, O, O, O, O, O, O, O, B-geo, O, O, B-geo...  \n",
              "Sentence: 2615   [O, B-gpe, O, O, O, O, O, B-geo, I-geo, O, O, ...  \n",
              "Sentence: 22551  [B-geo, O, O, O, O, O, O, O, O, O, O, O, O, O,...  \n",
              "Sentence: 37134  [O, O, O, B-org, O, O, B-org, O, O, O, O, B-ge...  \n",
              "Sentence: 32058  [O, O, O, O, O, O, O, O, O, B-per, I-per, O, O...  \n",
              "Sentence: 40779  [B-eve, I-eve, O, O, O, O, B-tim, I-tim, O, O,...  \n",
              "Sentence: 40370  [B-org, O, O, B-geo, I-geo, O, O, O, O, O, O, ...  \n",
              "Sentence: 25131  [O, B-geo, O, O, B-geo, O, O, O, O, O, O, O, O...  \n",
              "Sentence: 42883  [B-per, I-per, O, O, O, O, O, O, O, B-geo, O, ...  "
            ],
            "text/html": [
              "\n",
              "  <div id=\"df-600c3e91-e85c-4141-87f4-6647e62fedd1\">\n",
              "    <div class=\"colab-df-container\">\n",
              "      <div>\n",
              "<style scoped>\n",
              "    .dataframe tbody tr th:only-of-type {\n",
              "        vertical-align: middle;\n",
              "    }\n",
              "\n",
              "    .dataframe tbody tr th {\n",
              "        vertical-align: top;\n",
              "    }\n",
              "\n",
              "    .dataframe thead th {\n",
              "        text-align: right;\n",
              "    }\n",
              "</style>\n",
              "<table border=\"1\" class=\"dataframe\">\n",
              "  <thead>\n",
              "    <tr style=\"text-align: right;\">\n",
              "      <th></th>\n",
              "      <th>Word</th>\n",
              "      <th>POS</th>\n",
              "      <th>Tag</th>\n",
              "    </tr>\n",
              "    <tr>\n",
              "      <th>Sentence #</th>\n",
              "      <th></th>\n",
              "      <th></th>\n",
              "      <th></th>\n",
              "    </tr>\n",
              "  </thead>\n",
              "  <tbody>\n",
              "    <tr>\n",
              "      <th>Sentence: 46576</th>\n",
              "      <td>[U.S., Defense, Secretary, Donald, Rumsfeld, s...</td>\n",
              "      <td>[NNP, NNP, NNP, NNP, NNP, VBD, NNP, DT, NNP, N...</td>\n",
              "      <td>[B-org, I-org, B-per, I-per, I-per, O, B-tim, ...</td>\n",
              "    </tr>\n",
              "    <tr>\n",
              "      <th>Sentence: 12745</th>\n",
              "      <td>[Church, and, state, leaders, have, joined, or...</td>\n",
              "      <td>[NN, CC, NN, NNS, VBP, VBN, JJ, NNS, IN, NNP, ...</td>\n",
              "      <td>[O, O, O, O, O, O, O, O, O, B-geo, O, O, B-geo...</td>\n",
              "    </tr>\n",
              "    <tr>\n",
              "      <th>Sentence: 2615</th>\n",
              "      <td>[The, Israeli, army, says, troops, raided, the...</td>\n",
              "      <td>[DT, JJ, NN, VBZ, NNS, VBD, DT, NNP, NNP, NN, ...</td>\n",
              "      <td>[O, B-gpe, O, O, O, O, O, B-geo, I-geo, O, O, ...</td>\n",
              "    </tr>\n",
              "    <tr>\n",
              "      <th>Sentence: 22551</th>\n",
              "      <td>[Australia, is, making, its, first, World, Cup...</td>\n",
              "      <td>[NNP, VBZ, VBG, PRP$, JJ, NNP, NNP, NN, IN, CD...</td>\n",
              "      <td>[B-geo, O, O, O, O, O, O, O, O, O, O, O, O, O,...</td>\n",
              "    </tr>\n",
              "    <tr>\n",
              "      <th>Sentence: 37134</th>\n",
              "      <td>[They, crossed, the, Kowal, with, a, Muskie, a...</td>\n",
              "      <td>[PRP, VBD, DT, NNP, IN, DT, NN, CC, VBD, PRP, ...</td>\n",
              "      <td>[O, O, O, B-org, O, O, B-org, O, O, O, O, B-ge...</td>\n",
              "    </tr>\n",
              "    <tr>\n",
              "      <th>Sentence: 32058</th>\n",
              "      <td>[The, president, 's, action, followed, a, parl...</td>\n",
              "      <td>[DT, NN, POS, NN, VBD, DT, JJ, NN, VBG, NNP, N...</td>\n",
              "      <td>[O, O, O, O, O, O, O, O, O, B-per, I-per, O, O...</td>\n",
              "    </tr>\n",
              "    <tr>\n",
              "      <th>Sentence: 40779</th>\n",
              "      <td>[Hurricane, Dean, struck, the, island, in, Aug...</td>\n",
              "      <td>[NN, NNP, VBD, DT, NN, IN, NNP, CD, VBG, NNS, ...</td>\n",
              "      <td>[B-eve, I-eve, O, O, O, O, B-tim, I-tim, O, O,...</td>\n",
              "    </tr>\n",
              "    <tr>\n",
              "      <th>Sentence: 40370</th>\n",
              "      <td>[Al-Manar, headquarters, in, southern, Lebanon...</td>\n",
              "      <td>[NNP, NN, IN, JJ, NNP, VBP, VBN, VBN, IN, DT, ...</td>\n",
              "      <td>[B-org, O, O, B-geo, I-geo, O, O, O, O, O, O, ...</td>\n",
              "    </tr>\n",
              "    <tr>\n",
              "      <th>Sentence: 25131</th>\n",
              "      <td>[Earlier, U.S., officials, said, Washington, p...</td>\n",
              "      <td>[RBR, NNP, NNS, VBD, NNP, VBZ, TO, VB, NN, IN,...</td>\n",
              "      <td>[O, B-geo, O, O, B-geo, O, O, O, O, O, O, O, O...</td>\n",
              "    </tr>\n",
              "    <tr>\n",
              "      <th>Sentence: 42883</th>\n",
              "      <td>[President, Bush, has, asked, the, business, l...</td>\n",
              "      <td>[NNP, NNP, VBZ, VBN, DT, NN, NNS, TO, VB, NNP,...</td>\n",
              "      <td>[B-per, I-per, O, O, O, O, O, O, O, B-geo, O, ...</td>\n",
              "    </tr>\n",
              "  </tbody>\n",
              "</table>\n",
              "</div>\n",
              "      <button class=\"colab-df-convert\" onclick=\"convertToInteractive('df-600c3e91-e85c-4141-87f4-6647e62fedd1')\"\n",
              "              title=\"Convert this dataframe to an interactive table.\"\n",
              "              style=\"display:none;\">\n",
              "        \n",
              "  <svg xmlns=\"http://www.w3.org/2000/svg\" height=\"24px\"viewBox=\"0 0 24 24\"\n",
              "       width=\"24px\">\n",
              "    <path d=\"M0 0h24v24H0V0z\" fill=\"none\"/>\n",
              "    <path d=\"M18.56 5.44l.94 2.06.94-2.06 2.06-.94-2.06-.94-.94-2.06-.94 2.06-2.06.94zm-11 1L8.5 8.5l.94-2.06 2.06-.94-2.06-.94L8.5 2.5l-.94 2.06-2.06.94zm10 10l.94 2.06.94-2.06 2.06-.94-2.06-.94-.94-2.06-.94 2.06-2.06.94z\"/><path d=\"M17.41 7.96l-1.37-1.37c-.4-.4-.92-.59-1.43-.59-.52 0-1.04.2-1.43.59L10.3 9.45l-7.72 7.72c-.78.78-.78 2.05 0 2.83L4 21.41c.39.39.9.59 1.41.59.51 0 1.02-.2 1.41-.59l7.78-7.78 2.81-2.81c.8-.78.8-2.07 0-2.86zM5.41 20L4 18.59l7.72-7.72 1.47 1.35L5.41 20z\"/>\n",
              "  </svg>\n",
              "      </button>\n",
              "      \n",
              "  <style>\n",
              "    .colab-df-container {\n",
              "      display:flex;\n",
              "      flex-wrap:wrap;\n",
              "      gap: 12px;\n",
              "    }\n",
              "\n",
              "    .colab-df-convert {\n",
              "      background-color: #E8F0FE;\n",
              "      border: none;\n",
              "      border-radius: 50%;\n",
              "      cursor: pointer;\n",
              "      display: none;\n",
              "      fill: #1967D2;\n",
              "      height: 32px;\n",
              "      padding: 0 0 0 0;\n",
              "      width: 32px;\n",
              "    }\n",
              "\n",
              "    .colab-df-convert:hover {\n",
              "      background-color: #E2EBFA;\n",
              "      box-shadow: 0px 1px 2px rgba(60, 64, 67, 0.3), 0px 1px 3px 1px rgba(60, 64, 67, 0.15);\n",
              "      fill: #174EA6;\n",
              "    }\n",
              "\n",
              "    [theme=dark] .colab-df-convert {\n",
              "      background-color: #3B4455;\n",
              "      fill: #D2E3FC;\n",
              "    }\n",
              "\n",
              "    [theme=dark] .colab-df-convert:hover {\n",
              "      background-color: #434B5C;\n",
              "      box-shadow: 0px 1px 3px 1px rgba(0, 0, 0, 0.15);\n",
              "      filter: drop-shadow(0px 1px 2px rgba(0, 0, 0, 0.3));\n",
              "      fill: #FFFFFF;\n",
              "    }\n",
              "  </style>\n",
              "\n",
              "      <script>\n",
              "        const buttonEl =\n",
              "          document.querySelector('#df-600c3e91-e85c-4141-87f4-6647e62fedd1 button.colab-df-convert');\n",
              "        buttonEl.style.display =\n",
              "          google.colab.kernel.accessAllowed ? 'block' : 'none';\n",
              "\n",
              "        async function convertToInteractive(key) {\n",
              "          const element = document.querySelector('#df-600c3e91-e85c-4141-87f4-6647e62fedd1');\n",
              "          const dataTable =\n",
              "            await google.colab.kernel.invokeFunction('convertToInteractive',\n",
              "                                                     [key], {});\n",
              "          if (!dataTable) return;\n",
              "\n",
              "          const docLinkHtml = 'Like what you see? Visit the ' +\n",
              "            '<a target=\"_blank\" href=https://colab.research.google.com/notebooks/data_table.ipynb>data table notebook</a>'\n",
              "            + ' to learn more about interactive tables.';\n",
              "          element.innerHTML = '';\n",
              "          dataTable['output_type'] = 'display_data';\n",
              "          await google.colab.output.renderOutput(dataTable, element);\n",
              "          const docLink = document.createElement('div');\n",
              "          docLink.innerHTML = docLinkHtml;\n",
              "          element.appendChild(docLink);\n",
              "        }\n",
              "      </script>\n",
              "    </div>\n",
              "  </div>\n",
              "  "
            ]
          },
          "metadata": {},
          "execution_count": 9
        }
      ]
    },
    {
      "cell_type": "code",
      "source": [
        "datasets_new = df_new[['Word','POS']].copy()\n",
        "datasets_new.reset_index(drop=True,inplace=True)\n",
        "datasets_new.head()\n",
        "data = datasets_new.values.tolist()\n",
        "data[1]"
      ],
      "metadata": {
        "colab": {
          "base_uri": "https://localhost:8080/"
        },
        "id": "QvPB_7zrsQGw",
        "outputId": "244a8380-603d-4aac-a53f-0a77bbd3c73f"
      },
      "execution_count": 10,
      "outputs": [
        {
          "output_type": "execute_result",
          "data": {
            "text/plain": [
              "[['Iranian',\n",
              "  'officials',\n",
              "  'say',\n",
              "  'they',\n",
              "  'expect',\n",
              "  'to',\n",
              "  'get',\n",
              "  'access',\n",
              "  'to',\n",
              "  'sealed',\n",
              "  'sensitive',\n",
              "  'parts',\n",
              "  'of',\n",
              "  'the',\n",
              "  'plant',\n",
              "  'Wednesday',\n",
              "  ',',\n",
              "  'after',\n",
              "  'an',\n",
              "  'IAEA',\n",
              "  'surveillance',\n",
              "  'system',\n",
              "  'begins',\n",
              "  'functioning',\n",
              "  '.'],\n",
              " ['JJ',\n",
              "  'NNS',\n",
              "  'VBP',\n",
              "  'PRP',\n",
              "  'VBP',\n",
              "  'TO',\n",
              "  'VB',\n",
              "  'NN',\n",
              "  'TO',\n",
              "  'JJ',\n",
              "  'JJ',\n",
              "  'NNS',\n",
              "  'IN',\n",
              "  'DT',\n",
              "  'NN',\n",
              "  'NNP',\n",
              "  ',',\n",
              "  'IN',\n",
              "  'DT',\n",
              "  'NNP',\n",
              "  'NN',\n",
              "  'NN',\n",
              "  'VBZ',\n",
              "  'VBG',\n",
              "  '.']]"
            ]
          },
          "metadata": {},
          "execution_count": 10
        }
      ]
    },
    {
      "cell_type": "code",
      "source": [
        "## create a custom dataloader and dataset later\n",
        "class TaggerNet(nn.Module):\n",
        "    def __init__(self, embedding_dim, hidden_dim, vocab_size, tagset_size,pre_embeds):\n",
        "        \n",
        "        # Required call to the constructor of the parent class\n",
        "        super(TaggerNet, self).__init__()\n",
        "        \n",
        "        # Dimension of word embeddings, and the LSTM's hidden state vector\n",
        "        self.hidden_dim = hidden_dim\n",
        "        self.embedding_dim = embedding_dim\n",
        "        \n",
        "        # Embedding layer to turn our vocab into dense vectors, use pre-trained embeddings\n",
        "        self.embeddings = nn.Embedding(vocab_size, embedding_dim)\n",
        "        #elf.embeddings = pre_embeds\n",
        "        \n",
        "        # LSTM layer\n",
        "        self.lstm = nn.LSTM(embedding_dim, hidden_dim)\n",
        "        \n",
        "        # Fully-connected layer that we'll use for prediction\n",
        "        self.fc = nn.Linear(hidden_dim, tagset_size)\n",
        "        \n",
        "        \n",
        "    def forward(self, sentence):\n",
        "        embeddings = self.embeddings(sentence)\n",
        "        \n",
        "        lstm_output, hidden = self.lstm(embeddings.view(len(sentence), 1, -1))\n",
        "        \n",
        "        raw_scores = self.fc(lstm_output.view(len(sentence), -1))\n",
        "        \n",
        "        tag_scores = nn.functional.log_softmax(raw_scores, dim=1)\n",
        "        \n",
        "        return tag_scores"
      ],
      "metadata": {
        "id": "3rsYZ5BtVPJh"
      },
      "execution_count": 11,
      "outputs": []
    },
    {
      "cell_type": "code",
      "source": [
        "\n",
        "# def prepare_sequence(seq, to_ix):\n",
        "#     idxs = [to_ix[w] for w in seq]\n",
        "#     return torch.tensor(idxs, dtype=torch.long)\n",
        "\n",
        "def prepare_sequence(seq, to_ix):\n",
        "  idxs = []\n",
        "  for w in seq:\n",
        "    try:\n",
        "      idxs.append(to_ix[w])\n",
        "    except:\n",
        "      idxs.append(0)\n",
        "\n",
        "  return torch.tensor(idxs, dtype=torch.long)\n",
        "\n",
        "\n",
        "\n",
        "training_data = data[0:20000]\n",
        "\n",
        "\n",
        "            \n",
        "tag_to_ix = {}\n",
        "\n",
        "for ix, tag in enumerate(unique_POS):\n",
        "    tag_to_ix[tag] = ix\n",
        "\n",
        "## create a word_to_index \n",
        "word_to_ix = {}\n",
        "for sent, tags in data:\n",
        "    for word in sent:\n",
        "        if word not in word_to_ix:\n",
        "            word_to_ix[word] = len(word_to_ix)\n",
        "\n",
        "    \n",
        "EMBEDDING_DIM = 100\n",
        "HIDDEN_DIM = 256"
      ],
      "metadata": {
        "id": "ImJqQCN_a-EO"
      },
      "execution_count": 15,
      "outputs": []
    },
    {
      "cell_type": "code",
      "source": [
        "print(word_to_ix['there'])\n",
        "print(tag_to_ix)\n"
      ],
      "metadata": {
        "colab": {
          "base_uri": "https://localhost:8080/"
        },
        "id": "zk__qjSVwCHE",
        "outputId": "f820dc8e-e614-4bee-b92d-d1eac78d07fb"
      },
      "execution_count": 16,
      "outputs": [
        {
          "output_type": "stream",
          "name": "stdout",
          "text": [
            "1107\n",
            "{'NNS': 0, 'IN': 1, 'VBP': 2, 'VBN': 3, 'NNP': 4, 'TO': 5, 'VB': 6, 'DT': 7, 'NN': 8, 'CC': 9, 'JJ': 10, '.': 11, 'VBD': 12, 'WP': 13, '``': 14, 'CD': 15, 'PRP': 16, 'VBZ': 17, 'POS': 18, 'VBG': 19, 'RB': 20, ',': 21, 'WRB': 22, 'PRP$': 23, 'MD': 24, 'WDT': 25, 'JJR': 26, ':': 27, 'JJS': 28, 'WP$': 29, 'RP': 30, 'PDT': 31, 'NNPS': 32, 'EX': 33, 'RBS': 34, 'LRB': 35, 'RRB': 36, '$': 37, 'RBR': 38, ';': 39, 'UH': 40, 'FW': 41}\n"
          ]
        }
      ]
    },
    {
      "cell_type": "code",
      "source": [
        "my_model = TaggerNet(EMBEDDING_DIM, HIDDEN_DIM, len(word_to_ix), len(tag_to_ix),my_embedding_layer)\n",
        "loss_function = nn.NLLLoss()\n",
        "optimizer = optim.SGD(my_model.parameters(), lr=0.1)\n",
        "device = torch.device(\"cuda:0\" if torch.cuda.is_available() else \"cpu\")"
      ],
      "metadata": {
        "id": "UBdjYtq5jdbX"
      },
      "execution_count": 17,
      "outputs": []
    },
    {
      "cell_type": "code",
      "source": [
        "num_epochs = 5\n",
        "# Move the model to GPU if we can\n",
        "my_model.to(device)\n",
        "\n",
        "# Training Loop\n",
        "for epoch in range(num_epochs):\n",
        "    \n",
        "    # Put model into training mode\n",
        "    my_model.train()\n",
        "    \n",
        "    for sentence, tags in training_data:\n",
        "        # Clear gradient\n",
        "        my_model.zero_grad()\n",
        "        \n",
        "        \n",
        "        # Prepare the sentence for network input\n",
        "        input_sentence = prepare_sequence(sentence, word_to_ix)\n",
        "        targets = prepare_sequence(tags, tag_to_ix)\n",
        "        \n",
        "        # Move the data over to the GPU\n",
        "        input_sentence = input_sentence.to(device)\n",
        "        targets = targets.to(device)\n",
        "\n",
        "        # Run the forward pass\n",
        "        tag_scores = my_model(input_sentence)\n",
        "        \n",
        "        # Calculate the loss\n",
        "        loss = loss_function(tag_scores, targets)\n",
        "        \n",
        "        # Backward pass\n",
        "        loss.backward()\n",
        "        \n",
        "        # Update model parameters\n",
        "        optimizer.step()"
      ],
      "metadata": {
        "id": "7hdvuasojx4C"
      },
      "execution_count": 18,
      "outputs": []
    },
    {
      "cell_type": "code",
      "source": [
        "torch.save(my_model.state_dict(), 'model_POS.pt')"
      ],
      "metadata": {
        "id": "_JA29m0jOG_o"
      },
      "execution_count": 29,
      "outputs": []
    },
    {
      "cell_type": "code",
      "source": [
        "# test with words out of training data range\n",
        "N = 21100\n",
        "my_model.eval()\n",
        "\n",
        "inputs = prepare_sequence(data[N][0], word_to_ix)\n",
        "inputs = inputs.to(device)\n",
        "\n",
        "tag_scores = my_model(inputs)\n",
        "\n",
        "ix_to_tag = dict((v, k) for k, v in tag_to_ix.items())\n",
        "\n",
        "preds = [torch.max(x, 0)[1].item() for x in tag_scores]\n",
        "correct = prepare_sequence(data[N][1], tag_to_ix)\n",
        "\n",
        "original_sentence = data[N][0]\n",
        "correct_tags = [ix_to_tag[c.item()] for c in correct]\n",
        "predicted_tags = [ix_to_tag[p] for p in preds]\n",
        "\n",
        "print('{:<15}|{:<15}|{:<15}\\n'.format(*['Original', 'Correct', 'Predicted']))\n",
        "\n",
        "for item in zip(original_sentence, correct_tags, predicted_tags):\n",
        "    print('{:<15}|{:<15}|{:<15}'.format(*item))"
      ],
      "metadata": {
        "colab": {
          "base_uri": "https://localhost:8080/"
        },
        "id": "DxsLI9jmkL4h",
        "outputId": "72c86877-2122-412a-80ea-2d2eac49b3f0"
      },
      "execution_count": 19,
      "outputs": [
        {
          "output_type": "stream",
          "name": "stdout",
          "text": [
            "Original       |Correct        |Predicted      \n",
            "\n",
            "Competitive    |JJ             |NNP            \n",
            "diving         |NN             |NNP            \n",
            "is             |VBZ            |VBZ            \n",
            "one            |CD             |CD             \n",
            "of             |IN             |IN             \n",
            "the            |DT             |DT             \n",
            "sports         |NNS            |NNS            \n",
            "guaranteed     |VBN            |NN             \n",
            "to             |TO             |TO             \n",
            "attract        |VB             |VB             \n",
            "a              |DT             |DT             \n",
            "large          |JJ             |JJ             \n",
            "audience       |NN             |NN             \n",
            "at             |IN             |IN             \n",
            "the            |DT             |DT             \n",
            "Summer         |NNP            |NN             \n",
            "Olympics       |NNPS           |NNPS           \n",
            "in             |IN             |IN             \n",
            "Beijing        |NNP            |NNP            \n",
            ".              |.              |.              \n"
          ]
        }
      ]
    },
    {
      "cell_type": "code",
      "source": [
        "test_data = data[20000:]\n",
        "len(test_data)"
      ],
      "metadata": {
        "colab": {
          "base_uri": "https://localhost:8080/"
        },
        "id": "MTTv9E8o52At",
        "outputId": "092c6278-0a8b-461a-a19e-0d2cf296a314"
      },
      "execution_count": 20,
      "outputs": [
        {
          "output_type": "execute_result",
          "data": {
            "text/plain": [
              "27959"
            ]
          },
          "metadata": {},
          "execution_count": 20
        }
      ]
    },
    {
      "cell_type": "markdown",
      "source": [
        "#Create API"
      ],
      "metadata": {
        "id": "0UmZuz0LYKLZ"
      }
    },
    {
      "cell_type": "code",
      "source": [
        "# my_model.eval()\n",
        "# sent = 'My name is Anirudh Iyer, I live in India'.split(' ')\n",
        "# inputs = prepare_sequence(sent, word_to_ix)\n",
        "\n",
        "# inputs = inputs.to(device)\n",
        "\n",
        "# tag_scores = my_model(inputs)\n",
        "\n",
        "# ix_to_tag = dict((v, k) for k, v in tag_to_ix.items())\n",
        "\n",
        "# preds = [torch.max(x, 0)[1].item() for x in tag_scores]\n",
        "# correct = prepare_sequence(data[N][1], tag_to_ix)\n",
        "\n",
        "# predicted_tags = [ix_to_tag[p] for p in preds]\n",
        "\n",
        "\n",
        "# print(sent)\n",
        "# print(correct)\n",
        "# print(preds)\n",
        "# print(predicted_tags)\n",
        "\n",
        "\n",
        "def Tag_API(sentence):\n",
        "  my_model.eval()\n",
        "  sent = sentence.split(' ')\n",
        "  new_inp = prepare_sequence(sent, word_to_ix)\n",
        "  new_inp = new_inp.to(device)\n",
        "  tag_scores = my_model(new_inp)\n",
        "  preds = [torch.max(x, 0)[1].item() for x in tag_scores]\n",
        "  predicted_tags = [ix_to_tag[p] for p in preds]\n",
        "  print(sentence)\n",
        "  print(predicted_tags)\n",
        "  return predicted_tags\n",
        "\n",
        "\n",
        "Tag_API(\"Hello, my name is Anirudh Iyer\")\n"
      ],
      "metadata": {
        "colab": {
          "base_uri": "https://localhost:8080/"
        },
        "id": "V0b1nBOnkRQ9",
        "outputId": "b894730f-4967-4a6d-b5f0-a8ea59052973"
      },
      "execution_count": 83,
      "outputs": [
        {
          "output_type": "stream",
          "name": "stdout",
          "text": [
            "Hello, my name is Anirudh Iyer\n",
            "['NNS', 'PRP$', 'NNP', 'VBZ', 'NNS', 'NNS']\n"
          ]
        },
        {
          "output_type": "execute_result",
          "data": {
            "text/plain": [
              "['NNS', 'PRP$', 'NNP', 'VBZ', 'NNS', 'NNS']"
            ]
          },
          "metadata": {},
          "execution_count": 83
        }
      ]
    },
    {
      "cell_type": "code",
      "source": [
        "print(ix_to_tag)"
      ],
      "metadata": {
        "id": "X4_V_fMPSG2A",
        "outputId": "3ad01b04-d1d4-46cc-e214-b367cb1ce780",
        "colab": {
          "base_uri": "https://localhost:8080/"
        }
      },
      "execution_count": 45,
      "outputs": [
        {
          "output_type": "stream",
          "name": "stdout",
          "text": [
            "{0: 'NNS', 1: 'IN', 2: 'VBP', 3: 'VBN', 4: 'NNP', 5: 'TO', 6: 'VB', 7: 'DT', 8: 'NN', 9: 'CC', 10: 'JJ', 11: '.', 12: 'VBD', 13: 'WP', 14: '``', 15: 'CD', 16: 'PRP', 17: 'VBZ', 18: 'POS', 19: 'VBG', 20: 'RB', 21: ',', 22: 'WRB', 23: 'PRP$', 24: 'MD', 25: 'WDT', 26: 'JJR', 27: ':', 28: 'JJS', 29: 'WP$', 30: 'RP', 31: 'PDT', 32: 'NNPS', 33: 'EX', 34: 'RBS', 35: 'LRB', 36: 'RRB', 37: '$', 38: 'RBR', 39: ';', 40: 'UH', 41: 'FW'}\n"
          ]
        }
      ]
    },
    {
      "cell_type": "markdown",
      "source": [
        "# Evaluate Test Data"
      ],
      "metadata": {
        "id": "F-RF-ZrvWo9J"
      }
    },
    {
      "cell_type": "code",
      "source": [
        "\n",
        "def eval(my_model,test,device=device):\n",
        "  print(len(test))\n",
        "  my_model.eval()\n",
        "  correct_pred = 0\n",
        "  total_pred = 0\n",
        "  counter = 0\n",
        "  for sent in test:\n",
        "    counter = counter + 1\n",
        "    inputs = prepare_sequence(sent[0], word_to_ix)\n",
        "    inputs = inputs.to(device)\n",
        "    tag_scores = my_model(inputs)\n",
        "    preds = [torch.max(x, 0)[1].item() for x in tag_scores]\n",
        "    predicted_tags = [ix_to_tag[p] for p in preds]\n",
        "    \n",
        "    for i in range(len(predicted_tags)):\n",
        "        if predicted_tags[i] == sent[1][i]:\n",
        "          correct_pred = correct_pred+1\n",
        "        \n",
        "    total_pred = total_pred + len(predicted_tags)\n",
        "\n",
        "    \n",
        "  acc = correct_pred/total_pred\n",
        "    \n",
        "\n",
        "  return acc, correct_pred, total_pred\n",
        "\n",
        "\n",
        "acc, correct_pred, total_pred = eval(my_model,test_data)\n",
        "\n",
        "\n",
        "    \n"
      ],
      "metadata": {
        "id": "bBvmvzDm2hgv",
        "outputId": "16ec8e50-92c5-4756-c4eb-8109aca3b950",
        "colab": {
          "base_uri": "https://localhost:8080/"
        }
      },
      "execution_count": 76,
      "outputs": [
        {
          "output_type": "stream",
          "name": "stdout",
          "text": [
            "27959\n"
          ]
        }
      ]
    },
    {
      "cell_type": "code",
      "source": [
        "##Accuracy on the test data of \n",
        "acc"
      ],
      "metadata": {
        "id": "L4vYoX7sPa2Q",
        "outputId": "84bff896-1ee0-4c6b-faf0-f04a0abccf98",
        "colab": {
          "base_uri": "https://localhost:8080/"
        }
      },
      "execution_count": 84,
      "outputs": [
        {
          "output_type": "execute_result",
          "data": {
            "text/plain": [
              "0.9359546306361253"
            ]
          },
          "metadata": {},
          "execution_count": 84
        }
      ]
    },
    {
      "cell_type": "markdown",
      "source": [
        "#While giving custom sentences, we have to take care of OOV words."
      ],
      "metadata": {
        "id": "KlafAt0pXtnY"
      }
    },
    {
      "cell_type": "code",
      "source": [],
      "metadata": {
        "id": "_OeVQxgAVbEQ"
      },
      "execution_count": null,
      "outputs": []
    }
  ]
}